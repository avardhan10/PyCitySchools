{
 "cells": [
  {
   "cell_type": "code",
   "execution_count": 31,
   "metadata": {},
   "outputs": [],
   "source": [
    "#Dependencies and Setup\n",
    "import pandas as pd\n",
    "import numpy as np"
   ]
  },
  {
   "cell_type": "code",
   "execution_count": 32,
   "metadata": {},
   "outputs": [],
   "source": [
    "#File to Load\n",
    "school_data_to_load=\"~/Desktop/GitHubDataScienceUCI/PyCitySchools/schools_complete.csv\"\n",
    "student_data_to_load=\"~/Desktop/GitHubDataScienceUCI/PyCitySchools/students_complete.csv\""
   ]
  },
  {
   "cell_type": "code",
   "execution_count": 33,
   "metadata": {},
   "outputs": [],
   "source": [
    "# Read School and Student Data File and store into Pandas Data Frames\n",
    "school_data = pd.read_csv(school_data_to_load)\n",
    "student_data = pd.read_csv(student_data_to_load)"
   ]
  },
  {
   "cell_type": "code",
   "execution_count": 34,
   "metadata": {},
   "outputs": [],
   "source": [
    "# Combine the data into a single dataset\n",
    "school_data_complete = pd.merge(student_data, school_data, how =\"left\", on=[\"school_name\", \"school_name\"])\n"
   ]
  },
  {
   "cell_type": "code",
   "execution_count": 35,
   "metadata": {},
   "outputs": [
    {
     "data": {
      "text/plain": [
       "15"
      ]
     },
     "execution_count": 35,
     "metadata": {},
     "output_type": "execute_result"
    }
   ],
   "source": [
    "#District Summary: Calculate the total number of schools\n",
    "total_schools = school_data[\"school_name\"].count()\n",
    "total_schools"
   ]
  },
  {
   "cell_type": "code",
   "execution_count": 36,
   "metadata": {},
   "outputs": [
    {
     "data": {
      "text/plain": [
       "39170"
      ]
     },
     "execution_count": 36,
     "metadata": {},
     "output_type": "execute_result"
    }
   ],
   "source": [
    "#District Summary: Calculate total number of students\n",
    "total_students = student_data[\"student_name\"].count()\n",
    "total_students"
   ]
  },
  {
   "cell_type": "code",
   "execution_count": 37,
   "metadata": {},
   "outputs": [
    {
     "data": {
      "text/plain": [
       "'$24649428.00'"
      ]
     },
     "execution_count": 37,
     "metadata": {},
     "output_type": "execute_result"
    }
   ],
   "source": [
    "#District Summary: Calculate the total budget\n",
    "total_budget = school_data[\"budget\"].sum()\n",
    "\"$\" + str(\"{:.2f}\".format(total_budget))"
   ]
  },
  {
   "cell_type": "code",
   "execution_count": 38,
   "metadata": {},
   "outputs": [
    {
     "data": {
      "text/plain": [
       "'78.985371'"
      ]
     },
     "execution_count": 38,
     "metadata": {},
     "output_type": "execute_result"
    }
   ],
   "source": [
    "#District Summary: Calculate the average math score \n",
    "average_math = student_data['math_score'].mean()\n",
    "str(\"{:.6f}\".format(average_math))"
   ]
  },
  {
   "cell_type": "code",
   "execution_count": 39,
   "metadata": {},
   "outputs": [
    {
     "data": {
      "text/plain": [
       "'81.87784'"
      ]
     },
     "execution_count": 39,
     "metadata": {},
     "output_type": "execute_result"
    }
   ],
   "source": [
    "#District Summary: Calculate the average reading score \n",
    "average_reading = student_data['reading_score'].mean()\n",
    "str(\"{:.5f}\".format(average_reading))"
   ]
  },
  {
   "cell_type": "code",
   "execution_count": 40,
   "metadata": {},
   "outputs": [
    {
     "data": {
      "text/plain": [
       "74.9808526933878"
      ]
     },
     "execution_count": 40,
     "metadata": {},
     "output_type": "execute_result"
    }
   ],
   "source": [
    "#District Summary: Calculate the percentage of students with a passing math score (70 or greater)\n",
    "pass_math = (student_data['math_score']>=70).sum()/total_students * 100\n",
    "pass_math"
   ]
  },
  {
   "cell_type": "code",
   "execution_count": 41,
   "metadata": {},
   "outputs": [
    {
     "data": {
      "text/plain": [
       "85.80546336482001"
      ]
     },
     "execution_count": 41,
     "metadata": {},
     "output_type": "execute_result"
    }
   ],
   "source": [
    "#District Summary: Calculate the percentage of students with a passing reading score (70 or greater)\n",
    "pass_reading = (student_data['reading_score']>=70).sum()/total_students * 100\n",
    "pass_reading"
   ]
  },
  {
   "cell_type": "code",
   "execution_count": 42,
   "metadata": {},
   "outputs": [
    {
     "data": {
      "text/plain": [
       "80.43160582078121"
      ]
     },
     "execution_count": 42,
     "metadata": {},
     "output_type": "execute_result"
    }
   ],
   "source": [
    "#District Summary: Calculate the overall passing rate (overall average score), i.e. (avg. math score + avg. reading score)/2\n",
    "pass_overall = (average_math+average_reading)/2\n",
    "pass_overall\n"
   ]
  },
  {
   "cell_type": "code",
   "execution_count": 43,
   "metadata": {},
   "outputs": [
    {
     "data": {
      "text/html": [
       "<div>\n",
       "<style scoped>\n",
       "    .dataframe tbody tr th:only-of-type {\n",
       "        vertical-align: middle;\n",
       "    }\n",
       "\n",
       "    .dataframe tbody tr th {\n",
       "        vertical-align: top;\n",
       "    }\n",
       "\n",
       "    .dataframe thead th {\n",
       "        text-align: right;\n",
       "    }\n",
       "</style>\n",
       "<table border=\"1\" class=\"dataframe\">\n",
       "  <thead>\n",
       "    <tr style=\"text-align: right;\">\n",
       "      <th></th>\n",
       "      <th>Total Schools</th>\n",
       "      <th>Total Budget</th>\n",
       "      <th>Total Students</th>\n",
       "      <th>Average Math Score</th>\n",
       "      <th>Average Reading Score</th>\n",
       "      <th>% Passing Math</th>\n",
       "      <th>% Passing Reading</th>\n",
       "      <th>% Passing Overall</th>\n",
       "    </tr>\n",
       "  </thead>\n",
       "  <tbody>\n",
       "    <tr>\n",
       "      <th>0</th>\n",
       "      <td>15</td>\n",
       "      <td>$24649428.00</td>\n",
       "      <td>39170</td>\n",
       "      <td>78.985371</td>\n",
       "      <td>81.87784</td>\n",
       "      <td>74.980853</td>\n",
       "      <td>85.805463</td>\n",
       "      <td>80.431606</td>\n",
       "    </tr>\n",
       "  </tbody>\n",
       "</table>\n",
       "</div>"
      ],
      "text/plain": [
       "   Total Schools  Total Budget  Total Students  Average Math Score  \\\n",
       "0             15  $24649428.00           39170           78.985371   \n",
       "\n",
       "   Average Reading Score  % Passing Math  % Passing Reading  % Passing Overall  \n",
       "0               81.87784       74.980853          85.805463          80.431606  "
      ]
     },
     "execution_count": 43,
     "metadata": {},
     "output_type": "execute_result"
    }
   ],
   "source": [
    "#Create a dataframe to hold the above results\n",
    "district_overview = pd.DataFrame({\"Total Schools\":[total_schools],\"Total Budget\":[\"$\" + str(\"{:.2f}\".format(total_budget))],\"Total Students\":[total_students],\"Average Math Score\":[average_math],\"Average Reading Score\":[average_reading],\"% Passing Math\":[pass_math],\"% Passing Reading\":[pass_reading],\"% Passing Overall\":[pass_overall]})\n",
    "district_overview"
   ]
  },
  {
   "cell_type": "code",
   "execution_count": 44,
   "metadata": {},
   "outputs": [
    {
     "data": {
      "text/plain": [
       "school_name\n",
       "Huang High School        District\n",
       "Figueroa High School     District\n",
       "Shelton High School       Charter\n",
       "Hernandez High School    District\n",
       "Griffin High School       Charter\n",
       "Wilson High School        Charter\n",
       "Cabrera High School       Charter\n",
       "Bailey High School       District\n",
       "Holden High School        Charter\n",
       "Pena High School          Charter\n",
       "Wright High School        Charter\n",
       "Rodriguez High School    District\n",
       "Johnson High School      District\n",
       "Ford High School         District\n",
       "Thomas High School        Charter\n",
       "Name: type, dtype: object"
      ]
     },
     "execution_count": 44,
     "metadata": {},
     "output_type": "execute_result"
    }
   ],
   "source": [
    "#School Summary: School Types and Types\n",
    "school_types = school_data.set_index(\"school_name\")[\"type\"]\n",
    "school_types"
   ]
  },
  {
   "cell_type": "code",
   "execution_count": 15,
   "metadata": {},
   "outputs": [
    {
     "data": {
      "text/plain": [
       "Bailey High School       4976\n",
       "Johnson High School      4761\n",
       "Hernandez High School    4635\n",
       "Rodriguez High School    3999\n",
       "Figueroa High School     2949\n",
       "Huang High School        2917\n",
       "Ford High School         2739\n",
       "Wilson High School       2283\n",
       "Cabrera High School      1858\n",
       "Wright High School       1800\n",
       "Shelton High School      1761\n",
       "Thomas High School       1635\n",
       "Griffin High School      1468\n",
       "Pena High School          962\n",
       "Holden High School        427\n",
       "Name: school_name, dtype: int64"
      ]
     },
     "execution_count": 15,
     "metadata": {},
     "output_type": "execute_result"
    }
   ],
   "source": [
    "#School Summary: Total students\n",
    "Students_Per_School = school_data_complete['school_name'].value_counts()\n",
    "Students_Per_School"
   ]
  },
  {
   "cell_type": "code",
   "execution_count": 16,
   "metadata": {},
   "outputs": [
    {
     "data": {
      "text/plain": [
       "school_name\n",
       "Huang High School        1910635\n",
       "Figueroa High School     1884411\n",
       "Shelton High School      1056600\n",
       "Hernandez High School    3022020\n",
       "Griffin High School       917500\n",
       "Wilson High School       1319574\n",
       "Cabrera High School      1081356\n",
       "Bailey High School       3124928\n",
       "Holden High School        248087\n",
       "Pena High School          585858\n",
       "Wright High School       1049400\n",
       "Rodriguez High School    2547363\n",
       "Johnson High School      3094650\n",
       "Ford High School         1763916\n",
       "Thomas High School       1043130\n",
       "Name: budget, dtype: int64"
      ]
     },
     "execution_count": 16,
     "metadata": {},
     "output_type": "execute_result"
    }
   ],
   "source": [
    "#School Summary: Total school budget\n",
    "school_budget = school_data.set_index(\"school_name\")[\"budget\"]\n",
    "school_budget\n"
   ]
  },
  {
   "cell_type": "code",
   "execution_count": 17,
   "metadata": {},
   "outputs": [
    {
     "data": {
      "text/plain": [
       "school_name\n",
       "Huang High School        655.0\n",
       "Figueroa High School     639.0\n",
       "Shelton High School      600.0\n",
       "Hernandez High School    652.0\n",
       "Griffin High School      625.0\n",
       "Wilson High School       578.0\n",
       "Cabrera High School      582.0\n",
       "Bailey High School       628.0\n",
       "Holden High School       581.0\n",
       "Pena High School         609.0\n",
       "Wright High School       583.0\n",
       "Rodriguez High School    637.0\n",
       "Johnson High School      650.0\n",
       "Ford High School         644.0\n",
       "Thomas High School       638.0\n",
       "dtype: float64"
      ]
     },
     "execution_count": 17,
     "metadata": {},
     "output_type": "execute_result"
    }
   ],
   "source": [
    "#School Summary: Per student budget\n",
    "Per_student_budget = school_data.set_index(\"school_name\")[\"budget\"]/school_data.set_index(\"school_name\")[\"size\"]\n",
    "Per_student_budget"
   ]
  },
  {
   "cell_type": "code",
   "execution_count": 18,
   "metadata": {},
   "outputs": [
    {
     "data": {
      "text/plain": [
       "school_name\n",
       "Bailey High School       77.048432\n",
       "Cabrera High School      83.061895\n",
       "Figueroa High School     76.711767\n",
       "Ford High School         77.102592\n",
       "Griffin High School      83.351499\n",
       "Hernandez High School    77.289752\n",
       "Holden High School       83.803279\n",
       "Huang High School        76.629414\n",
       "Johnson High School      77.072464\n",
       "Pena High School         83.839917\n",
       "Rodriguez High School    76.842711\n",
       "Shelton High School      83.359455\n",
       "Thomas High School       83.418349\n",
       "Wilson High School       83.274201\n",
       "Wright High School       83.682222\n",
       "Name: math_score, dtype: float64"
      ]
     },
     "execution_count": 18,
     "metadata": {},
     "output_type": "execute_result"
    }
   ],
   "source": [
    "#School Summary: Average Math Score\n",
    "average_math_score = school_data_complete.groupby(\"school_name\").mean()['math_score'] \n",
    "average_math_score"
   ]
  },
  {
   "cell_type": "code",
   "execution_count": 19,
   "metadata": {},
   "outputs": [
    {
     "data": {
      "text/plain": [
       "school_name\n",
       "Bailey High School       81.033963\n",
       "Cabrera High School      83.975780\n",
       "Figueroa High School     81.158020\n",
       "Ford High School         80.746258\n",
       "Griffin High School      83.816757\n",
       "Hernandez High School    80.934412\n",
       "Holden High School       83.814988\n",
       "Huang High School        81.182722\n",
       "Johnson High School      80.966394\n",
       "Pena High School         84.044699\n",
       "Rodriguez High School    80.744686\n",
       "Shelton High School      83.725724\n",
       "Thomas High School       83.848930\n",
       "Wilson High School       83.989488\n",
       "Wright High School       83.955000\n",
       "Name: reading_score, dtype: float64"
      ]
     },
     "execution_count": 19,
     "metadata": {},
     "output_type": "execute_result"
    }
   ],
   "source": [
    "#School Summary: Average Reading Score\n",
    "average_reading_score = school_data_complete.groupby(\"school_name\").mean()['reading_score'] \n",
    "average_reading_score"
   ]
  },
  {
   "cell_type": "code",
   "execution_count": 20,
   "metadata": {},
   "outputs": [
    {
     "data": {
      "text/plain": [
       "Bailey High School       66.680064\n",
       "Cabrera High School      94.133477\n",
       "Figueroa High School     65.988471\n",
       "Ford High School         68.309602\n",
       "Griffin High School      93.392371\n",
       "Hernandez High School    66.752967\n",
       "Holden High School       92.505855\n",
       "Huang High School        65.683922\n",
       "Johnson High School      66.057551\n",
       "Pena High School         94.594595\n",
       "Rodriguez High School    66.366592\n",
       "Shelton High School      93.867121\n",
       "Thomas High School       93.272171\n",
       "Wilson High School       93.867718\n",
       "Wright High School       93.333333\n",
       "dtype: float64"
      ]
     },
     "execution_count": 20,
     "metadata": {},
     "output_type": "execute_result"
    }
   ],
   "source": [
    "#School Summary: Percent Passing Math\n",
    "percent_passing_math = school_data_complete[school_data_complete[\"math_score\"] >= 70].groupby(\"school_name\").count()['student_name']/Students_Per_School * 100 \n",
    "percent_passing_math"
   ]
  },
  {
   "cell_type": "code",
   "execution_count": 21,
   "metadata": {},
   "outputs": [
    {
     "data": {
      "text/plain": [
       "Bailey High School       81.933280\n",
       "Cabrera High School      97.039828\n",
       "Figueroa High School     80.739234\n",
       "Ford High School         79.299014\n",
       "Griffin High School      97.138965\n",
       "Hernandez High School    80.862999\n",
       "Holden High School       96.252927\n",
       "Huang High School        81.316421\n",
       "Johnson High School      81.222432\n",
       "Pena High School         95.945946\n",
       "Rodriguez High School    80.220055\n",
       "Shelton High School      95.854628\n",
       "Thomas High School       97.308869\n",
       "Wilson High School       96.539641\n",
       "Wright High School       96.611111\n",
       "dtype: float64"
      ]
     },
     "execution_count": 21,
     "metadata": {},
     "output_type": "execute_result"
    }
   ],
   "source": [
    "#School Summary: Percent Passing Reading\n",
    "percent_passing_reading = school_data_complete[school_data_complete[\"reading_score\"] >= 70].groupby(\"school_name\").count()['student_name']/Students_Per_School * 100\n",
    "percent_passing_reading"
   ]
  },
  {
   "cell_type": "code",
   "execution_count": 22,
   "metadata": {},
   "outputs": [
    {
     "data": {
      "text/plain": [
       "Bailey High School       74.306672\n",
       "Cabrera High School      95.586652\n",
       "Figueroa High School     73.363852\n",
       "Ford High School         73.804308\n",
       "Griffin High School      95.265668\n",
       "Hernandez High School    73.807983\n",
       "Holden High School       94.379391\n",
       "Huang High School        73.500171\n",
       "Johnson High School      73.639992\n",
       "Pena High School         95.270270\n",
       "Rodriguez High School    73.293323\n",
       "Shelton High School      94.860875\n",
       "Thomas High School       95.290520\n",
       "Wilson High School       95.203679\n",
       "Wright High School       94.972222\n",
       "dtype: float64"
      ]
     },
     "execution_count": 22,
     "metadata": {},
     "output_type": "execute_result"
    }
   ],
   "source": [
    "#School Summary: Percent Passing Reading\n",
    "Overall_Passing_Rate = (percent_passing_math+percent_passing_reading)/2\n",
    "Overall_Passing_Rate"
   ]
  },
  {
   "cell_type": "code",
   "execution_count": 23,
   "metadata": {},
   "outputs": [
    {
     "data": {
      "text/html": [
       "<style  type=\"text/css\" >\n",
       "</style>  \n",
       "<table id=\"T_ad23fc76_f5d6_11e8_a6cf_c4b3018a4022\" > \n",
       "<thead>    <tr> \n",
       "        <th class=\"blank level0\" ></th> \n",
       "        <th class=\"col_heading level0 col0\" >School Type</th> \n",
       "        <th class=\"col_heading level0 col1\" >Total Students</th> \n",
       "        <th class=\"col_heading level0 col2\" >Total School Budget</th> \n",
       "        <th class=\"col_heading level0 col3\" >Per Student Budget</th> \n",
       "        <th class=\"col_heading level0 col4\" >Average Math Score</th> \n",
       "        <th class=\"col_heading level0 col5\" >Average Reading Score</th> \n",
       "        <th class=\"col_heading level0 col6\" >% Passing Math</th> \n",
       "        <th class=\"col_heading level0 col7\" >% Passing Reading</th> \n",
       "        <th class=\"col_heading level0 col8\" >% Overall Passing Rate</th> \n",
       "    </tr></thead> \n",
       "<tbody>    <tr> \n",
       "        <th id=\"T_ad23fc76_f5d6_11e8_a6cf_c4b3018a4022level0_row0\" class=\"row_heading level0 row0\" >Bailey High School</th> \n",
       "        <td id=\"T_ad23fc76_f5d6_11e8_a6cf_c4b3018a4022row0_col0\" class=\"data row0 col0\" >District</td> \n",
       "        <td id=\"T_ad23fc76_f5d6_11e8_a6cf_c4b3018a4022row0_col1\" class=\"data row0 col1\" >4976</td> \n",
       "        <td id=\"T_ad23fc76_f5d6_11e8_a6cf_c4b3018a4022row0_col2\" class=\"data row0 col2\" >$3124928.00</td> \n",
       "        <td id=\"T_ad23fc76_f5d6_11e8_a6cf_c4b3018a4022row0_col3\" class=\"data row0 col3\" >$628.00</td> \n",
       "        <td id=\"T_ad23fc76_f5d6_11e8_a6cf_c4b3018a4022row0_col4\" class=\"data row0 col4\" >77.048432</td> \n",
       "        <td id=\"T_ad23fc76_f5d6_11e8_a6cf_c4b3018a4022row0_col5\" class=\"data row0 col5\" >81.033963</td> \n",
       "        <td id=\"T_ad23fc76_f5d6_11e8_a6cf_c4b3018a4022row0_col6\" class=\"data row0 col6\" >66.680064</td> \n",
       "        <td id=\"T_ad23fc76_f5d6_11e8_a6cf_c4b3018a4022row0_col7\" class=\"data row0 col7\" >81.933280</td> \n",
       "        <td id=\"T_ad23fc76_f5d6_11e8_a6cf_c4b3018a4022row0_col8\" class=\"data row0 col8\" >74.306672</td> \n",
       "    </tr>    <tr> \n",
       "        <th id=\"T_ad23fc76_f5d6_11e8_a6cf_c4b3018a4022level0_row1\" class=\"row_heading level0 row1\" >Cabrera High School</th> \n",
       "        <td id=\"T_ad23fc76_f5d6_11e8_a6cf_c4b3018a4022row1_col0\" class=\"data row1 col0\" >Charter</td> \n",
       "        <td id=\"T_ad23fc76_f5d6_11e8_a6cf_c4b3018a4022row1_col1\" class=\"data row1 col1\" >1858</td> \n",
       "        <td id=\"T_ad23fc76_f5d6_11e8_a6cf_c4b3018a4022row1_col2\" class=\"data row1 col2\" >$1081356.00</td> \n",
       "        <td id=\"T_ad23fc76_f5d6_11e8_a6cf_c4b3018a4022row1_col3\" class=\"data row1 col3\" >$582.00</td> \n",
       "        <td id=\"T_ad23fc76_f5d6_11e8_a6cf_c4b3018a4022row1_col4\" class=\"data row1 col4\" >83.061895</td> \n",
       "        <td id=\"T_ad23fc76_f5d6_11e8_a6cf_c4b3018a4022row1_col5\" class=\"data row1 col5\" >83.975780</td> \n",
       "        <td id=\"T_ad23fc76_f5d6_11e8_a6cf_c4b3018a4022row1_col6\" class=\"data row1 col6\" >94.133477</td> \n",
       "        <td id=\"T_ad23fc76_f5d6_11e8_a6cf_c4b3018a4022row1_col7\" class=\"data row1 col7\" >97.039828</td> \n",
       "        <td id=\"T_ad23fc76_f5d6_11e8_a6cf_c4b3018a4022row1_col8\" class=\"data row1 col8\" >95.586652</td> \n",
       "    </tr>    <tr> \n",
       "        <th id=\"T_ad23fc76_f5d6_11e8_a6cf_c4b3018a4022level0_row2\" class=\"row_heading level0 row2\" >Figueroa High School</th> \n",
       "        <td id=\"T_ad23fc76_f5d6_11e8_a6cf_c4b3018a4022row2_col0\" class=\"data row2 col0\" >District</td> \n",
       "        <td id=\"T_ad23fc76_f5d6_11e8_a6cf_c4b3018a4022row2_col1\" class=\"data row2 col1\" >2949</td> \n",
       "        <td id=\"T_ad23fc76_f5d6_11e8_a6cf_c4b3018a4022row2_col2\" class=\"data row2 col2\" >$1884411.00</td> \n",
       "        <td id=\"T_ad23fc76_f5d6_11e8_a6cf_c4b3018a4022row2_col3\" class=\"data row2 col3\" >$639.00</td> \n",
       "        <td id=\"T_ad23fc76_f5d6_11e8_a6cf_c4b3018a4022row2_col4\" class=\"data row2 col4\" >76.711767</td> \n",
       "        <td id=\"T_ad23fc76_f5d6_11e8_a6cf_c4b3018a4022row2_col5\" class=\"data row2 col5\" >81.158020</td> \n",
       "        <td id=\"T_ad23fc76_f5d6_11e8_a6cf_c4b3018a4022row2_col6\" class=\"data row2 col6\" >65.988471</td> \n",
       "        <td id=\"T_ad23fc76_f5d6_11e8_a6cf_c4b3018a4022row2_col7\" class=\"data row2 col7\" >80.739234</td> \n",
       "        <td id=\"T_ad23fc76_f5d6_11e8_a6cf_c4b3018a4022row2_col8\" class=\"data row2 col8\" >73.363852</td> \n",
       "    </tr>    <tr> \n",
       "        <th id=\"T_ad23fc76_f5d6_11e8_a6cf_c4b3018a4022level0_row3\" class=\"row_heading level0 row3\" >Ford High School</th> \n",
       "        <td id=\"T_ad23fc76_f5d6_11e8_a6cf_c4b3018a4022row3_col0\" class=\"data row3 col0\" >District</td> \n",
       "        <td id=\"T_ad23fc76_f5d6_11e8_a6cf_c4b3018a4022row3_col1\" class=\"data row3 col1\" >2739</td> \n",
       "        <td id=\"T_ad23fc76_f5d6_11e8_a6cf_c4b3018a4022row3_col2\" class=\"data row3 col2\" >$1763916.00</td> \n",
       "        <td id=\"T_ad23fc76_f5d6_11e8_a6cf_c4b3018a4022row3_col3\" class=\"data row3 col3\" >$644.00</td> \n",
       "        <td id=\"T_ad23fc76_f5d6_11e8_a6cf_c4b3018a4022row3_col4\" class=\"data row3 col4\" >77.102592</td> \n",
       "        <td id=\"T_ad23fc76_f5d6_11e8_a6cf_c4b3018a4022row3_col5\" class=\"data row3 col5\" >80.746258</td> \n",
       "        <td id=\"T_ad23fc76_f5d6_11e8_a6cf_c4b3018a4022row3_col6\" class=\"data row3 col6\" >68.309602</td> \n",
       "        <td id=\"T_ad23fc76_f5d6_11e8_a6cf_c4b3018a4022row3_col7\" class=\"data row3 col7\" >79.299014</td> \n",
       "        <td id=\"T_ad23fc76_f5d6_11e8_a6cf_c4b3018a4022row3_col8\" class=\"data row3 col8\" >73.804308</td> \n",
       "    </tr>    <tr> \n",
       "        <th id=\"T_ad23fc76_f5d6_11e8_a6cf_c4b3018a4022level0_row4\" class=\"row_heading level0 row4\" >Griffin High School</th> \n",
       "        <td id=\"T_ad23fc76_f5d6_11e8_a6cf_c4b3018a4022row4_col0\" class=\"data row4 col0\" >Charter</td> \n",
       "        <td id=\"T_ad23fc76_f5d6_11e8_a6cf_c4b3018a4022row4_col1\" class=\"data row4 col1\" >1468</td> \n",
       "        <td id=\"T_ad23fc76_f5d6_11e8_a6cf_c4b3018a4022row4_col2\" class=\"data row4 col2\" >$917500.00</td> \n",
       "        <td id=\"T_ad23fc76_f5d6_11e8_a6cf_c4b3018a4022row4_col3\" class=\"data row4 col3\" >$625.00</td> \n",
       "        <td id=\"T_ad23fc76_f5d6_11e8_a6cf_c4b3018a4022row4_col4\" class=\"data row4 col4\" >83.351499</td> \n",
       "        <td id=\"T_ad23fc76_f5d6_11e8_a6cf_c4b3018a4022row4_col5\" class=\"data row4 col5\" >83.816757</td> \n",
       "        <td id=\"T_ad23fc76_f5d6_11e8_a6cf_c4b3018a4022row4_col6\" class=\"data row4 col6\" >93.392371</td> \n",
       "        <td id=\"T_ad23fc76_f5d6_11e8_a6cf_c4b3018a4022row4_col7\" class=\"data row4 col7\" >97.138965</td> \n",
       "        <td id=\"T_ad23fc76_f5d6_11e8_a6cf_c4b3018a4022row4_col8\" class=\"data row4 col8\" >95.265668</td> \n",
       "    </tr>    <tr> \n",
       "        <th id=\"T_ad23fc76_f5d6_11e8_a6cf_c4b3018a4022level0_row5\" class=\"row_heading level0 row5\" >Hernandez High School</th> \n",
       "        <td id=\"T_ad23fc76_f5d6_11e8_a6cf_c4b3018a4022row5_col0\" class=\"data row5 col0\" >District</td> \n",
       "        <td id=\"T_ad23fc76_f5d6_11e8_a6cf_c4b3018a4022row5_col1\" class=\"data row5 col1\" >4635</td> \n",
       "        <td id=\"T_ad23fc76_f5d6_11e8_a6cf_c4b3018a4022row5_col2\" class=\"data row5 col2\" >$3022020.00</td> \n",
       "        <td id=\"T_ad23fc76_f5d6_11e8_a6cf_c4b3018a4022row5_col3\" class=\"data row5 col3\" >$652.00</td> \n",
       "        <td id=\"T_ad23fc76_f5d6_11e8_a6cf_c4b3018a4022row5_col4\" class=\"data row5 col4\" >77.289752</td> \n",
       "        <td id=\"T_ad23fc76_f5d6_11e8_a6cf_c4b3018a4022row5_col5\" class=\"data row5 col5\" >80.934412</td> \n",
       "        <td id=\"T_ad23fc76_f5d6_11e8_a6cf_c4b3018a4022row5_col6\" class=\"data row5 col6\" >66.752967</td> \n",
       "        <td id=\"T_ad23fc76_f5d6_11e8_a6cf_c4b3018a4022row5_col7\" class=\"data row5 col7\" >80.862999</td> \n",
       "        <td id=\"T_ad23fc76_f5d6_11e8_a6cf_c4b3018a4022row5_col8\" class=\"data row5 col8\" >73.807983</td> \n",
       "    </tr>    <tr> \n",
       "        <th id=\"T_ad23fc76_f5d6_11e8_a6cf_c4b3018a4022level0_row6\" class=\"row_heading level0 row6\" >Holden High School</th> \n",
       "        <td id=\"T_ad23fc76_f5d6_11e8_a6cf_c4b3018a4022row6_col0\" class=\"data row6 col0\" >Charter</td> \n",
       "        <td id=\"T_ad23fc76_f5d6_11e8_a6cf_c4b3018a4022row6_col1\" class=\"data row6 col1\" >427</td> \n",
       "        <td id=\"T_ad23fc76_f5d6_11e8_a6cf_c4b3018a4022row6_col2\" class=\"data row6 col2\" >$248087.00</td> \n",
       "        <td id=\"T_ad23fc76_f5d6_11e8_a6cf_c4b3018a4022row6_col3\" class=\"data row6 col3\" >$581.00</td> \n",
       "        <td id=\"T_ad23fc76_f5d6_11e8_a6cf_c4b3018a4022row6_col4\" class=\"data row6 col4\" >83.803279</td> \n",
       "        <td id=\"T_ad23fc76_f5d6_11e8_a6cf_c4b3018a4022row6_col5\" class=\"data row6 col5\" >83.814988</td> \n",
       "        <td id=\"T_ad23fc76_f5d6_11e8_a6cf_c4b3018a4022row6_col6\" class=\"data row6 col6\" >92.505855</td> \n",
       "        <td id=\"T_ad23fc76_f5d6_11e8_a6cf_c4b3018a4022row6_col7\" class=\"data row6 col7\" >96.252927</td> \n",
       "        <td id=\"T_ad23fc76_f5d6_11e8_a6cf_c4b3018a4022row6_col8\" class=\"data row6 col8\" >94.379391</td> \n",
       "    </tr>    <tr> \n",
       "        <th id=\"T_ad23fc76_f5d6_11e8_a6cf_c4b3018a4022level0_row7\" class=\"row_heading level0 row7\" >Huang High School</th> \n",
       "        <td id=\"T_ad23fc76_f5d6_11e8_a6cf_c4b3018a4022row7_col0\" class=\"data row7 col0\" >District</td> \n",
       "        <td id=\"T_ad23fc76_f5d6_11e8_a6cf_c4b3018a4022row7_col1\" class=\"data row7 col1\" >2917</td> \n",
       "        <td id=\"T_ad23fc76_f5d6_11e8_a6cf_c4b3018a4022row7_col2\" class=\"data row7 col2\" >$1910635.00</td> \n",
       "        <td id=\"T_ad23fc76_f5d6_11e8_a6cf_c4b3018a4022row7_col3\" class=\"data row7 col3\" >$655.00</td> \n",
       "        <td id=\"T_ad23fc76_f5d6_11e8_a6cf_c4b3018a4022row7_col4\" class=\"data row7 col4\" >76.629414</td> \n",
       "        <td id=\"T_ad23fc76_f5d6_11e8_a6cf_c4b3018a4022row7_col5\" class=\"data row7 col5\" >81.182722</td> \n",
       "        <td id=\"T_ad23fc76_f5d6_11e8_a6cf_c4b3018a4022row7_col6\" class=\"data row7 col6\" >65.683922</td> \n",
       "        <td id=\"T_ad23fc76_f5d6_11e8_a6cf_c4b3018a4022row7_col7\" class=\"data row7 col7\" >81.316421</td> \n",
       "        <td id=\"T_ad23fc76_f5d6_11e8_a6cf_c4b3018a4022row7_col8\" class=\"data row7 col8\" >73.500171</td> \n",
       "    </tr>    <tr> \n",
       "        <th id=\"T_ad23fc76_f5d6_11e8_a6cf_c4b3018a4022level0_row8\" class=\"row_heading level0 row8\" >Johnson High School</th> \n",
       "        <td id=\"T_ad23fc76_f5d6_11e8_a6cf_c4b3018a4022row8_col0\" class=\"data row8 col0\" >District</td> \n",
       "        <td id=\"T_ad23fc76_f5d6_11e8_a6cf_c4b3018a4022row8_col1\" class=\"data row8 col1\" >4761</td> \n",
       "        <td id=\"T_ad23fc76_f5d6_11e8_a6cf_c4b3018a4022row8_col2\" class=\"data row8 col2\" >$3094650.00</td> \n",
       "        <td id=\"T_ad23fc76_f5d6_11e8_a6cf_c4b3018a4022row8_col3\" class=\"data row8 col3\" >$650.00</td> \n",
       "        <td id=\"T_ad23fc76_f5d6_11e8_a6cf_c4b3018a4022row8_col4\" class=\"data row8 col4\" >77.072464</td> \n",
       "        <td id=\"T_ad23fc76_f5d6_11e8_a6cf_c4b3018a4022row8_col5\" class=\"data row8 col5\" >80.966394</td> \n",
       "        <td id=\"T_ad23fc76_f5d6_11e8_a6cf_c4b3018a4022row8_col6\" class=\"data row8 col6\" >66.057551</td> \n",
       "        <td id=\"T_ad23fc76_f5d6_11e8_a6cf_c4b3018a4022row8_col7\" class=\"data row8 col7\" >81.222432</td> \n",
       "        <td id=\"T_ad23fc76_f5d6_11e8_a6cf_c4b3018a4022row8_col8\" class=\"data row8 col8\" >73.639992</td> \n",
       "    </tr>    <tr> \n",
       "        <th id=\"T_ad23fc76_f5d6_11e8_a6cf_c4b3018a4022level0_row9\" class=\"row_heading level0 row9\" >Pena High School</th> \n",
       "        <td id=\"T_ad23fc76_f5d6_11e8_a6cf_c4b3018a4022row9_col0\" class=\"data row9 col0\" >Charter</td> \n",
       "        <td id=\"T_ad23fc76_f5d6_11e8_a6cf_c4b3018a4022row9_col1\" class=\"data row9 col1\" >962</td> \n",
       "        <td id=\"T_ad23fc76_f5d6_11e8_a6cf_c4b3018a4022row9_col2\" class=\"data row9 col2\" >$585858.00</td> \n",
       "        <td id=\"T_ad23fc76_f5d6_11e8_a6cf_c4b3018a4022row9_col3\" class=\"data row9 col3\" >$609.00</td> \n",
       "        <td id=\"T_ad23fc76_f5d6_11e8_a6cf_c4b3018a4022row9_col4\" class=\"data row9 col4\" >83.839917</td> \n",
       "        <td id=\"T_ad23fc76_f5d6_11e8_a6cf_c4b3018a4022row9_col5\" class=\"data row9 col5\" >84.044699</td> \n",
       "        <td id=\"T_ad23fc76_f5d6_11e8_a6cf_c4b3018a4022row9_col6\" class=\"data row9 col6\" >94.594595</td> \n",
       "        <td id=\"T_ad23fc76_f5d6_11e8_a6cf_c4b3018a4022row9_col7\" class=\"data row9 col7\" >95.945946</td> \n",
       "        <td id=\"T_ad23fc76_f5d6_11e8_a6cf_c4b3018a4022row9_col8\" class=\"data row9 col8\" >95.270270</td> \n",
       "    </tr>    <tr> \n",
       "        <th id=\"T_ad23fc76_f5d6_11e8_a6cf_c4b3018a4022level0_row10\" class=\"row_heading level0 row10\" >Rodriguez High School</th> \n",
       "        <td id=\"T_ad23fc76_f5d6_11e8_a6cf_c4b3018a4022row10_col0\" class=\"data row10 col0\" >District</td> \n",
       "        <td id=\"T_ad23fc76_f5d6_11e8_a6cf_c4b3018a4022row10_col1\" class=\"data row10 col1\" >3999</td> \n",
       "        <td id=\"T_ad23fc76_f5d6_11e8_a6cf_c4b3018a4022row10_col2\" class=\"data row10 col2\" >$2547363.00</td> \n",
       "        <td id=\"T_ad23fc76_f5d6_11e8_a6cf_c4b3018a4022row10_col3\" class=\"data row10 col3\" >$637.00</td> \n",
       "        <td id=\"T_ad23fc76_f5d6_11e8_a6cf_c4b3018a4022row10_col4\" class=\"data row10 col4\" >76.842711</td> \n",
       "        <td id=\"T_ad23fc76_f5d6_11e8_a6cf_c4b3018a4022row10_col5\" class=\"data row10 col5\" >80.744686</td> \n",
       "        <td id=\"T_ad23fc76_f5d6_11e8_a6cf_c4b3018a4022row10_col6\" class=\"data row10 col6\" >66.366592</td> \n",
       "        <td id=\"T_ad23fc76_f5d6_11e8_a6cf_c4b3018a4022row10_col7\" class=\"data row10 col7\" >80.220055</td> \n",
       "        <td id=\"T_ad23fc76_f5d6_11e8_a6cf_c4b3018a4022row10_col8\" class=\"data row10 col8\" >73.293323</td> \n",
       "    </tr>    <tr> \n",
       "        <th id=\"T_ad23fc76_f5d6_11e8_a6cf_c4b3018a4022level0_row11\" class=\"row_heading level0 row11\" >Shelton High School</th> \n",
       "        <td id=\"T_ad23fc76_f5d6_11e8_a6cf_c4b3018a4022row11_col0\" class=\"data row11 col0\" >Charter</td> \n",
       "        <td id=\"T_ad23fc76_f5d6_11e8_a6cf_c4b3018a4022row11_col1\" class=\"data row11 col1\" >1761</td> \n",
       "        <td id=\"T_ad23fc76_f5d6_11e8_a6cf_c4b3018a4022row11_col2\" class=\"data row11 col2\" >$1056600.00</td> \n",
       "        <td id=\"T_ad23fc76_f5d6_11e8_a6cf_c4b3018a4022row11_col3\" class=\"data row11 col3\" >$600.00</td> \n",
       "        <td id=\"T_ad23fc76_f5d6_11e8_a6cf_c4b3018a4022row11_col4\" class=\"data row11 col4\" >83.359455</td> \n",
       "        <td id=\"T_ad23fc76_f5d6_11e8_a6cf_c4b3018a4022row11_col5\" class=\"data row11 col5\" >83.725724</td> \n",
       "        <td id=\"T_ad23fc76_f5d6_11e8_a6cf_c4b3018a4022row11_col6\" class=\"data row11 col6\" >93.867121</td> \n",
       "        <td id=\"T_ad23fc76_f5d6_11e8_a6cf_c4b3018a4022row11_col7\" class=\"data row11 col7\" >95.854628</td> \n",
       "        <td id=\"T_ad23fc76_f5d6_11e8_a6cf_c4b3018a4022row11_col8\" class=\"data row11 col8\" >94.860875</td> \n",
       "    </tr>    <tr> \n",
       "        <th id=\"T_ad23fc76_f5d6_11e8_a6cf_c4b3018a4022level0_row12\" class=\"row_heading level0 row12\" >Thomas High School</th> \n",
       "        <td id=\"T_ad23fc76_f5d6_11e8_a6cf_c4b3018a4022row12_col0\" class=\"data row12 col0\" >Charter</td> \n",
       "        <td id=\"T_ad23fc76_f5d6_11e8_a6cf_c4b3018a4022row12_col1\" class=\"data row12 col1\" >1635</td> \n",
       "        <td id=\"T_ad23fc76_f5d6_11e8_a6cf_c4b3018a4022row12_col2\" class=\"data row12 col2\" >$1043130.00</td> \n",
       "        <td id=\"T_ad23fc76_f5d6_11e8_a6cf_c4b3018a4022row12_col3\" class=\"data row12 col3\" >$638.00</td> \n",
       "        <td id=\"T_ad23fc76_f5d6_11e8_a6cf_c4b3018a4022row12_col4\" class=\"data row12 col4\" >83.418349</td> \n",
       "        <td id=\"T_ad23fc76_f5d6_11e8_a6cf_c4b3018a4022row12_col5\" class=\"data row12 col5\" >83.848930</td> \n",
       "        <td id=\"T_ad23fc76_f5d6_11e8_a6cf_c4b3018a4022row12_col6\" class=\"data row12 col6\" >93.272171</td> \n",
       "        <td id=\"T_ad23fc76_f5d6_11e8_a6cf_c4b3018a4022row12_col7\" class=\"data row12 col7\" >97.308869</td> \n",
       "        <td id=\"T_ad23fc76_f5d6_11e8_a6cf_c4b3018a4022row12_col8\" class=\"data row12 col8\" >95.290520</td> \n",
       "    </tr>    <tr> \n",
       "        <th id=\"T_ad23fc76_f5d6_11e8_a6cf_c4b3018a4022level0_row13\" class=\"row_heading level0 row13\" >Wilson High School</th> \n",
       "        <td id=\"T_ad23fc76_f5d6_11e8_a6cf_c4b3018a4022row13_col0\" class=\"data row13 col0\" >Charter</td> \n",
       "        <td id=\"T_ad23fc76_f5d6_11e8_a6cf_c4b3018a4022row13_col1\" class=\"data row13 col1\" >2283</td> \n",
       "        <td id=\"T_ad23fc76_f5d6_11e8_a6cf_c4b3018a4022row13_col2\" class=\"data row13 col2\" >$1319574.00</td> \n",
       "        <td id=\"T_ad23fc76_f5d6_11e8_a6cf_c4b3018a4022row13_col3\" class=\"data row13 col3\" >$578.00</td> \n",
       "        <td id=\"T_ad23fc76_f5d6_11e8_a6cf_c4b3018a4022row13_col4\" class=\"data row13 col4\" >83.274201</td> \n",
       "        <td id=\"T_ad23fc76_f5d6_11e8_a6cf_c4b3018a4022row13_col5\" class=\"data row13 col5\" >83.989488</td> \n",
       "        <td id=\"T_ad23fc76_f5d6_11e8_a6cf_c4b3018a4022row13_col6\" class=\"data row13 col6\" >93.867718</td> \n",
       "        <td id=\"T_ad23fc76_f5d6_11e8_a6cf_c4b3018a4022row13_col7\" class=\"data row13 col7\" >96.539641</td> \n",
       "        <td id=\"T_ad23fc76_f5d6_11e8_a6cf_c4b3018a4022row13_col8\" class=\"data row13 col8\" >95.203679</td> \n",
       "    </tr>    <tr> \n",
       "        <th id=\"T_ad23fc76_f5d6_11e8_a6cf_c4b3018a4022level0_row14\" class=\"row_heading level0 row14\" >Wright High School</th> \n",
       "        <td id=\"T_ad23fc76_f5d6_11e8_a6cf_c4b3018a4022row14_col0\" class=\"data row14 col0\" >Charter</td> \n",
       "        <td id=\"T_ad23fc76_f5d6_11e8_a6cf_c4b3018a4022row14_col1\" class=\"data row14 col1\" >1800</td> \n",
       "        <td id=\"T_ad23fc76_f5d6_11e8_a6cf_c4b3018a4022row14_col2\" class=\"data row14 col2\" >$1049400.00</td> \n",
       "        <td id=\"T_ad23fc76_f5d6_11e8_a6cf_c4b3018a4022row14_col3\" class=\"data row14 col3\" >$583.00</td> \n",
       "        <td id=\"T_ad23fc76_f5d6_11e8_a6cf_c4b3018a4022row14_col4\" class=\"data row14 col4\" >83.682222</td> \n",
       "        <td id=\"T_ad23fc76_f5d6_11e8_a6cf_c4b3018a4022row14_col5\" class=\"data row14 col5\" >83.955000</td> \n",
       "        <td id=\"T_ad23fc76_f5d6_11e8_a6cf_c4b3018a4022row14_col6\" class=\"data row14 col6\" >93.333333</td> \n",
       "        <td id=\"T_ad23fc76_f5d6_11e8_a6cf_c4b3018a4022row14_col7\" class=\"data row14 col7\" >96.611111</td> \n",
       "        <td id=\"T_ad23fc76_f5d6_11e8_a6cf_c4b3018a4022row14_col8\" class=\"data row14 col8\" >94.972222</td> \n",
       "    </tr></tbody> \n",
       "</table> "
      ],
      "text/plain": [
       "<pandas.io.formats.style.Styler at 0x1196f1cf8>"
      ]
     },
     "execution_count": 23,
     "metadata": {},
     "output_type": "execute_result"
    }
   ],
   "source": [
    "#create a dataframe to hold above\n",
    "summary_by_school= pd.DataFrame({\"School Type\": school_types,\"Total Students\": Students_Per_School,\"Total School Budget\": school_budget,\"Per Student Budget\": Per_student_budget,\"Average Math Score\": average_math_score,\"Average Reading Score\": average_reading_score,\"% Passing Math\": percent_passing_math,\"% Passing Reading\": percent_passing_reading,\"% Overall Passing Rate\": Overall_Passing_Rate})\n",
    "\n",
    "\n",
    "#formatting summary_by_school for the total school budget and per student budget columns\n",
    "summary_by_school.style.format({\"Total School Budget\": '${:.2f}',\n",
    "                          \"Per Student Budget\": '${:.2f}','Average Math Score': '{:.6f}',\n",
    "                              'Average Reading Score': '{:.6f}',\n",
    "                              '% Passing Math': '{:.6f}',\n",
    "                              '% Passing Reading': '{:.6f}',\n",
    "                              '% Overall Passing Rate': '{:.6f}'})\n",
    "\n",
    "\n",
    "\n"
   ]
  },
  {
   "cell_type": "code",
   "execution_count": 24,
   "metadata": {},
   "outputs": [
    {
     "data": {
      "text/html": [
       "<style  type=\"text/css\" >\n",
       "</style>  \n",
       "<table id=\"T_b0c1da60_f5d6_11e8_a6cf_c4b3018a4022\" > \n",
       "<thead>    <tr> \n",
       "        <th class=\"blank level0\" ></th> \n",
       "        <th class=\"col_heading level0 col0\" >School Type</th> \n",
       "        <th class=\"col_heading level0 col1\" >Total Students</th> \n",
       "        <th class=\"col_heading level0 col2\" >Total School Budget</th> \n",
       "        <th class=\"col_heading level0 col3\" >Per Student Budget</th> \n",
       "        <th class=\"col_heading level0 col4\" >Average Math Score</th> \n",
       "        <th class=\"col_heading level0 col5\" >Average Reading Score</th> \n",
       "        <th class=\"col_heading level0 col6\" >% Passing Math</th> \n",
       "        <th class=\"col_heading level0 col7\" >% Passing Reading</th> \n",
       "        <th class=\"col_heading level0 col8\" >% Overall Passing Rate</th> \n",
       "    </tr></thead> \n",
       "<tbody>    <tr> \n",
       "        <th id=\"T_b0c1da60_f5d6_11e8_a6cf_c4b3018a4022level0_row0\" class=\"row_heading level0 row0\" >Cabrera High School</th> \n",
       "        <td id=\"T_b0c1da60_f5d6_11e8_a6cf_c4b3018a4022row0_col0\" class=\"data row0 col0\" >Charter</td> \n",
       "        <td id=\"T_b0c1da60_f5d6_11e8_a6cf_c4b3018a4022row0_col1\" class=\"data row0 col1\" >1858</td> \n",
       "        <td id=\"T_b0c1da60_f5d6_11e8_a6cf_c4b3018a4022row0_col2\" class=\"data row0 col2\" >$1081356.00</td> \n",
       "        <td id=\"T_b0c1da60_f5d6_11e8_a6cf_c4b3018a4022row0_col3\" class=\"data row0 col3\" >$582.00</td> \n",
       "        <td id=\"T_b0c1da60_f5d6_11e8_a6cf_c4b3018a4022row0_col4\" class=\"data row0 col4\" >83.061895</td> \n",
       "        <td id=\"T_b0c1da60_f5d6_11e8_a6cf_c4b3018a4022row0_col5\" class=\"data row0 col5\" >83.975780</td> \n",
       "        <td id=\"T_b0c1da60_f5d6_11e8_a6cf_c4b3018a4022row0_col6\" class=\"data row0 col6\" >94.133477</td> \n",
       "        <td id=\"T_b0c1da60_f5d6_11e8_a6cf_c4b3018a4022row0_col7\" class=\"data row0 col7\" >97.039828</td> \n",
       "        <td id=\"T_b0c1da60_f5d6_11e8_a6cf_c4b3018a4022row0_col8\" class=\"data row0 col8\" >95.586652</td> \n",
       "    </tr>    <tr> \n",
       "        <th id=\"T_b0c1da60_f5d6_11e8_a6cf_c4b3018a4022level0_row1\" class=\"row_heading level0 row1\" >Thomas High School</th> \n",
       "        <td id=\"T_b0c1da60_f5d6_11e8_a6cf_c4b3018a4022row1_col0\" class=\"data row1 col0\" >Charter</td> \n",
       "        <td id=\"T_b0c1da60_f5d6_11e8_a6cf_c4b3018a4022row1_col1\" class=\"data row1 col1\" >1635</td> \n",
       "        <td id=\"T_b0c1da60_f5d6_11e8_a6cf_c4b3018a4022row1_col2\" class=\"data row1 col2\" >$1043130.00</td> \n",
       "        <td id=\"T_b0c1da60_f5d6_11e8_a6cf_c4b3018a4022row1_col3\" class=\"data row1 col3\" >$638.00</td> \n",
       "        <td id=\"T_b0c1da60_f5d6_11e8_a6cf_c4b3018a4022row1_col4\" class=\"data row1 col4\" >83.418349</td> \n",
       "        <td id=\"T_b0c1da60_f5d6_11e8_a6cf_c4b3018a4022row1_col5\" class=\"data row1 col5\" >83.848930</td> \n",
       "        <td id=\"T_b0c1da60_f5d6_11e8_a6cf_c4b3018a4022row1_col6\" class=\"data row1 col6\" >93.272171</td> \n",
       "        <td id=\"T_b0c1da60_f5d6_11e8_a6cf_c4b3018a4022row1_col7\" class=\"data row1 col7\" >97.308869</td> \n",
       "        <td id=\"T_b0c1da60_f5d6_11e8_a6cf_c4b3018a4022row1_col8\" class=\"data row1 col8\" >95.290520</td> \n",
       "    </tr>    <tr> \n",
       "        <th id=\"T_b0c1da60_f5d6_11e8_a6cf_c4b3018a4022level0_row2\" class=\"row_heading level0 row2\" >Pena High School</th> \n",
       "        <td id=\"T_b0c1da60_f5d6_11e8_a6cf_c4b3018a4022row2_col0\" class=\"data row2 col0\" >Charter</td> \n",
       "        <td id=\"T_b0c1da60_f5d6_11e8_a6cf_c4b3018a4022row2_col1\" class=\"data row2 col1\" >962</td> \n",
       "        <td id=\"T_b0c1da60_f5d6_11e8_a6cf_c4b3018a4022row2_col2\" class=\"data row2 col2\" >$585858.00</td> \n",
       "        <td id=\"T_b0c1da60_f5d6_11e8_a6cf_c4b3018a4022row2_col3\" class=\"data row2 col3\" >$609.00</td> \n",
       "        <td id=\"T_b0c1da60_f5d6_11e8_a6cf_c4b3018a4022row2_col4\" class=\"data row2 col4\" >83.839917</td> \n",
       "        <td id=\"T_b0c1da60_f5d6_11e8_a6cf_c4b3018a4022row2_col5\" class=\"data row2 col5\" >84.044699</td> \n",
       "        <td id=\"T_b0c1da60_f5d6_11e8_a6cf_c4b3018a4022row2_col6\" class=\"data row2 col6\" >94.594595</td> \n",
       "        <td id=\"T_b0c1da60_f5d6_11e8_a6cf_c4b3018a4022row2_col7\" class=\"data row2 col7\" >95.945946</td> \n",
       "        <td id=\"T_b0c1da60_f5d6_11e8_a6cf_c4b3018a4022row2_col8\" class=\"data row2 col8\" >95.270270</td> \n",
       "    </tr>    <tr> \n",
       "        <th id=\"T_b0c1da60_f5d6_11e8_a6cf_c4b3018a4022level0_row3\" class=\"row_heading level0 row3\" >Griffin High School</th> \n",
       "        <td id=\"T_b0c1da60_f5d6_11e8_a6cf_c4b3018a4022row3_col0\" class=\"data row3 col0\" >Charter</td> \n",
       "        <td id=\"T_b0c1da60_f5d6_11e8_a6cf_c4b3018a4022row3_col1\" class=\"data row3 col1\" >1468</td> \n",
       "        <td id=\"T_b0c1da60_f5d6_11e8_a6cf_c4b3018a4022row3_col2\" class=\"data row3 col2\" >$917500.00</td> \n",
       "        <td id=\"T_b0c1da60_f5d6_11e8_a6cf_c4b3018a4022row3_col3\" class=\"data row3 col3\" >$625.00</td> \n",
       "        <td id=\"T_b0c1da60_f5d6_11e8_a6cf_c4b3018a4022row3_col4\" class=\"data row3 col4\" >83.351499</td> \n",
       "        <td id=\"T_b0c1da60_f5d6_11e8_a6cf_c4b3018a4022row3_col5\" class=\"data row3 col5\" >83.816757</td> \n",
       "        <td id=\"T_b0c1da60_f5d6_11e8_a6cf_c4b3018a4022row3_col6\" class=\"data row3 col6\" >93.392371</td> \n",
       "        <td id=\"T_b0c1da60_f5d6_11e8_a6cf_c4b3018a4022row3_col7\" class=\"data row3 col7\" >97.138965</td> \n",
       "        <td id=\"T_b0c1da60_f5d6_11e8_a6cf_c4b3018a4022row3_col8\" class=\"data row3 col8\" >95.265668</td> \n",
       "    </tr>    <tr> \n",
       "        <th id=\"T_b0c1da60_f5d6_11e8_a6cf_c4b3018a4022level0_row4\" class=\"row_heading level0 row4\" >Wilson High School</th> \n",
       "        <td id=\"T_b0c1da60_f5d6_11e8_a6cf_c4b3018a4022row4_col0\" class=\"data row4 col0\" >Charter</td> \n",
       "        <td id=\"T_b0c1da60_f5d6_11e8_a6cf_c4b3018a4022row4_col1\" class=\"data row4 col1\" >2283</td> \n",
       "        <td id=\"T_b0c1da60_f5d6_11e8_a6cf_c4b3018a4022row4_col2\" class=\"data row4 col2\" >$1319574.00</td> \n",
       "        <td id=\"T_b0c1da60_f5d6_11e8_a6cf_c4b3018a4022row4_col3\" class=\"data row4 col3\" >$578.00</td> \n",
       "        <td id=\"T_b0c1da60_f5d6_11e8_a6cf_c4b3018a4022row4_col4\" class=\"data row4 col4\" >83.274201</td> \n",
       "        <td id=\"T_b0c1da60_f5d6_11e8_a6cf_c4b3018a4022row4_col5\" class=\"data row4 col5\" >83.989488</td> \n",
       "        <td id=\"T_b0c1da60_f5d6_11e8_a6cf_c4b3018a4022row4_col6\" class=\"data row4 col6\" >93.867718</td> \n",
       "        <td id=\"T_b0c1da60_f5d6_11e8_a6cf_c4b3018a4022row4_col7\" class=\"data row4 col7\" >96.539641</td> \n",
       "        <td id=\"T_b0c1da60_f5d6_11e8_a6cf_c4b3018a4022row4_col8\" class=\"data row4 col8\" >95.203679</td> \n",
       "    </tr></tbody> \n",
       "</table> "
      ],
      "text/plain": [
       "<pandas.io.formats.style.Styler at 0x119bafc50>"
      ]
     },
     "execution_count": 24,
     "metadata": {},
     "output_type": "execute_result"
    }
   ],
   "source": [
    "top_5 = summary_by_school.sort_values(\"% Overall Passing Rate\", ascending = False).head(5)\n",
    "top_5\n",
    "\n",
    "#Formatting top 5 schools for the total school budget and per student budget columns\n",
    "top_5.style.format({\"Total School Budget\": '${:.2f}',\n",
    "                          \"Per Student Budget\": '${:.2f}','Average Math Score': '{:.6f}',\n",
    "                              'Average Reading Score': '{:.6f}',\n",
    "                              '% Passing Math': '{:.6f}',\n",
    "                              '% Passing Reading': '{:.6f}',\n",
    "                              '% Overall Passing Rate': '{:.6f}'})\n",
    "\n"
   ]
  },
  {
   "cell_type": "code",
   "execution_count": 25,
   "metadata": {},
   "outputs": [
    {
     "data": {
      "text/html": [
       "<style  type=\"text/css\" >\n",
       "</style>  \n",
       "<table id=\"T_b322dcdc_f5d6_11e8_a6cf_c4b3018a4022\" > \n",
       "<thead>    <tr> \n",
       "        <th class=\"blank level0\" ></th> \n",
       "        <th class=\"col_heading level0 col0\" >School Type</th> \n",
       "        <th class=\"col_heading level0 col1\" >Total Students</th> \n",
       "        <th class=\"col_heading level0 col2\" >Total School Budget</th> \n",
       "        <th class=\"col_heading level0 col3\" >Per Student Budget</th> \n",
       "        <th class=\"col_heading level0 col4\" >Average Math Score</th> \n",
       "        <th class=\"col_heading level0 col5\" >Average Reading Score</th> \n",
       "        <th class=\"col_heading level0 col6\" >% Passing Math</th> \n",
       "        <th class=\"col_heading level0 col7\" >% Passing Reading</th> \n",
       "        <th class=\"col_heading level0 col8\" >% Overall Passing Rate</th> \n",
       "    </tr></thead> \n",
       "<tbody>    <tr> \n",
       "        <th id=\"T_b322dcdc_f5d6_11e8_a6cf_c4b3018a4022level0_row0\" class=\"row_heading level0 row0\" >Rodriguez High School</th> \n",
       "        <td id=\"T_b322dcdc_f5d6_11e8_a6cf_c4b3018a4022row0_col0\" class=\"data row0 col0\" >District</td> \n",
       "        <td id=\"T_b322dcdc_f5d6_11e8_a6cf_c4b3018a4022row0_col1\" class=\"data row0 col1\" >3999</td> \n",
       "        <td id=\"T_b322dcdc_f5d6_11e8_a6cf_c4b3018a4022row0_col2\" class=\"data row0 col2\" >$2547363.00</td> \n",
       "        <td id=\"T_b322dcdc_f5d6_11e8_a6cf_c4b3018a4022row0_col3\" class=\"data row0 col3\" >$637.00</td> \n",
       "        <td id=\"T_b322dcdc_f5d6_11e8_a6cf_c4b3018a4022row0_col4\" class=\"data row0 col4\" >76.842711</td> \n",
       "        <td id=\"T_b322dcdc_f5d6_11e8_a6cf_c4b3018a4022row0_col5\" class=\"data row0 col5\" >80.744686</td> \n",
       "        <td id=\"T_b322dcdc_f5d6_11e8_a6cf_c4b3018a4022row0_col6\" class=\"data row0 col6\" >66.366592</td> \n",
       "        <td id=\"T_b322dcdc_f5d6_11e8_a6cf_c4b3018a4022row0_col7\" class=\"data row0 col7\" >80.220055</td> \n",
       "        <td id=\"T_b322dcdc_f5d6_11e8_a6cf_c4b3018a4022row0_col8\" class=\"data row0 col8\" >73.293323</td> \n",
       "    </tr>    <tr> \n",
       "        <th id=\"T_b322dcdc_f5d6_11e8_a6cf_c4b3018a4022level0_row1\" class=\"row_heading level0 row1\" >Figueroa High School</th> \n",
       "        <td id=\"T_b322dcdc_f5d6_11e8_a6cf_c4b3018a4022row1_col0\" class=\"data row1 col0\" >District</td> \n",
       "        <td id=\"T_b322dcdc_f5d6_11e8_a6cf_c4b3018a4022row1_col1\" class=\"data row1 col1\" >2949</td> \n",
       "        <td id=\"T_b322dcdc_f5d6_11e8_a6cf_c4b3018a4022row1_col2\" class=\"data row1 col2\" >$1884411.00</td> \n",
       "        <td id=\"T_b322dcdc_f5d6_11e8_a6cf_c4b3018a4022row1_col3\" class=\"data row1 col3\" >$639.00</td> \n",
       "        <td id=\"T_b322dcdc_f5d6_11e8_a6cf_c4b3018a4022row1_col4\" class=\"data row1 col4\" >76.711767</td> \n",
       "        <td id=\"T_b322dcdc_f5d6_11e8_a6cf_c4b3018a4022row1_col5\" class=\"data row1 col5\" >81.158020</td> \n",
       "        <td id=\"T_b322dcdc_f5d6_11e8_a6cf_c4b3018a4022row1_col6\" class=\"data row1 col6\" >65.988471</td> \n",
       "        <td id=\"T_b322dcdc_f5d6_11e8_a6cf_c4b3018a4022row1_col7\" class=\"data row1 col7\" >80.739234</td> \n",
       "        <td id=\"T_b322dcdc_f5d6_11e8_a6cf_c4b3018a4022row1_col8\" class=\"data row1 col8\" >73.363852</td> \n",
       "    </tr>    <tr> \n",
       "        <th id=\"T_b322dcdc_f5d6_11e8_a6cf_c4b3018a4022level0_row2\" class=\"row_heading level0 row2\" >Huang High School</th> \n",
       "        <td id=\"T_b322dcdc_f5d6_11e8_a6cf_c4b3018a4022row2_col0\" class=\"data row2 col0\" >District</td> \n",
       "        <td id=\"T_b322dcdc_f5d6_11e8_a6cf_c4b3018a4022row2_col1\" class=\"data row2 col1\" >2917</td> \n",
       "        <td id=\"T_b322dcdc_f5d6_11e8_a6cf_c4b3018a4022row2_col2\" class=\"data row2 col2\" >$1910635.00</td> \n",
       "        <td id=\"T_b322dcdc_f5d6_11e8_a6cf_c4b3018a4022row2_col3\" class=\"data row2 col3\" >$655.00</td> \n",
       "        <td id=\"T_b322dcdc_f5d6_11e8_a6cf_c4b3018a4022row2_col4\" class=\"data row2 col4\" >76.629414</td> \n",
       "        <td id=\"T_b322dcdc_f5d6_11e8_a6cf_c4b3018a4022row2_col5\" class=\"data row2 col5\" >81.182722</td> \n",
       "        <td id=\"T_b322dcdc_f5d6_11e8_a6cf_c4b3018a4022row2_col6\" class=\"data row2 col6\" >65.683922</td> \n",
       "        <td id=\"T_b322dcdc_f5d6_11e8_a6cf_c4b3018a4022row2_col7\" class=\"data row2 col7\" >81.316421</td> \n",
       "        <td id=\"T_b322dcdc_f5d6_11e8_a6cf_c4b3018a4022row2_col8\" class=\"data row2 col8\" >73.500171</td> \n",
       "    </tr>    <tr> \n",
       "        <th id=\"T_b322dcdc_f5d6_11e8_a6cf_c4b3018a4022level0_row3\" class=\"row_heading level0 row3\" >Johnson High School</th> \n",
       "        <td id=\"T_b322dcdc_f5d6_11e8_a6cf_c4b3018a4022row3_col0\" class=\"data row3 col0\" >District</td> \n",
       "        <td id=\"T_b322dcdc_f5d6_11e8_a6cf_c4b3018a4022row3_col1\" class=\"data row3 col1\" >4761</td> \n",
       "        <td id=\"T_b322dcdc_f5d6_11e8_a6cf_c4b3018a4022row3_col2\" class=\"data row3 col2\" >$3094650.00</td> \n",
       "        <td id=\"T_b322dcdc_f5d6_11e8_a6cf_c4b3018a4022row3_col3\" class=\"data row3 col3\" >$650.00</td> \n",
       "        <td id=\"T_b322dcdc_f5d6_11e8_a6cf_c4b3018a4022row3_col4\" class=\"data row3 col4\" >77.072464</td> \n",
       "        <td id=\"T_b322dcdc_f5d6_11e8_a6cf_c4b3018a4022row3_col5\" class=\"data row3 col5\" >80.966394</td> \n",
       "        <td id=\"T_b322dcdc_f5d6_11e8_a6cf_c4b3018a4022row3_col6\" class=\"data row3 col6\" >66.057551</td> \n",
       "        <td id=\"T_b322dcdc_f5d6_11e8_a6cf_c4b3018a4022row3_col7\" class=\"data row3 col7\" >81.222432</td> \n",
       "        <td id=\"T_b322dcdc_f5d6_11e8_a6cf_c4b3018a4022row3_col8\" class=\"data row3 col8\" >73.639992</td> \n",
       "    </tr>    <tr> \n",
       "        <th id=\"T_b322dcdc_f5d6_11e8_a6cf_c4b3018a4022level0_row4\" class=\"row_heading level0 row4\" >Ford High School</th> \n",
       "        <td id=\"T_b322dcdc_f5d6_11e8_a6cf_c4b3018a4022row4_col0\" class=\"data row4 col0\" >District</td> \n",
       "        <td id=\"T_b322dcdc_f5d6_11e8_a6cf_c4b3018a4022row4_col1\" class=\"data row4 col1\" >2739</td> \n",
       "        <td id=\"T_b322dcdc_f5d6_11e8_a6cf_c4b3018a4022row4_col2\" class=\"data row4 col2\" >$1763916.00</td> \n",
       "        <td id=\"T_b322dcdc_f5d6_11e8_a6cf_c4b3018a4022row4_col3\" class=\"data row4 col3\" >$644.00</td> \n",
       "        <td id=\"T_b322dcdc_f5d6_11e8_a6cf_c4b3018a4022row4_col4\" class=\"data row4 col4\" >77.102592</td> \n",
       "        <td id=\"T_b322dcdc_f5d6_11e8_a6cf_c4b3018a4022row4_col5\" class=\"data row4 col5\" >80.746258</td> \n",
       "        <td id=\"T_b322dcdc_f5d6_11e8_a6cf_c4b3018a4022row4_col6\" class=\"data row4 col6\" >68.309602</td> \n",
       "        <td id=\"T_b322dcdc_f5d6_11e8_a6cf_c4b3018a4022row4_col7\" class=\"data row4 col7\" >79.299014</td> \n",
       "        <td id=\"T_b322dcdc_f5d6_11e8_a6cf_c4b3018a4022row4_col8\" class=\"data row4 col8\" >73.804308</td> \n",
       "    </tr></tbody> \n",
       "</table> "
      ],
      "text/plain": [
       "<pandas.io.formats.style.Styler at 0x119bafeb8>"
      ]
     },
     "execution_count": 25,
     "metadata": {},
     "output_type": "execute_result"
    }
   ],
   "source": [
    "bottom_5 = summary_by_school.sort_values(\"% Overall Passing Rate\", ascending = True).head(5)\n",
    "bottom_5\n",
    "\n",
    "#Formatting bottom 5 schools for the total school budget and per student budget columns\n",
    "bottom_5.style.format({\"Total School Budget\": '${:.2f}',\n",
    "                      \"Per Student Budget\": '${:.2f}','Average Math Score': '{:.6f}',\n",
    "                              'Average Reading Score': '{:.6f}',\n",
    "                              '% Passing Math': '{:.6f}',\n",
    "                              '% Passing Reading': '{:.6f}',\n",
    "                              '% Overall Passing Rate': '{:.6f}'})"
   ]
  },
  {
   "cell_type": "code",
   "execution_count": 26,
   "metadata": {},
   "outputs": [
    {
     "data": {
      "text/html": [
       "<div>\n",
       "<style scoped>\n",
       "    .dataframe tbody tr th:only-of-type {\n",
       "        vertical-align: middle;\n",
       "    }\n",
       "\n",
       "    .dataframe tbody tr th {\n",
       "        vertical-align: top;\n",
       "    }\n",
       "\n",
       "    .dataframe thead th {\n",
       "        text-align: right;\n",
       "    }\n",
       "</style>\n",
       "<table border=\"1\" class=\"dataframe\">\n",
       "  <thead>\n",
       "    <tr style=\"text-align: right;\">\n",
       "      <th></th>\n",
       "      <th>9th</th>\n",
       "      <th>10th</th>\n",
       "      <th>11th</th>\n",
       "      <th>12th</th>\n",
       "    </tr>\n",
       "    <tr>\n",
       "      <th>school_name</th>\n",
       "      <th></th>\n",
       "      <th></th>\n",
       "      <th></th>\n",
       "      <th></th>\n",
       "    </tr>\n",
       "  </thead>\n",
       "  <tbody>\n",
       "    <tr>\n",
       "      <th>Bailey High School</th>\n",
       "      <td>77.083676</td>\n",
       "      <td>76.996772</td>\n",
       "      <td>77.515588</td>\n",
       "      <td>76.492218</td>\n",
       "    </tr>\n",
       "    <tr>\n",
       "      <th>Cabrera High School</th>\n",
       "      <td>83.094697</td>\n",
       "      <td>83.154506</td>\n",
       "      <td>82.765560</td>\n",
       "      <td>83.277487</td>\n",
       "    </tr>\n",
       "    <tr>\n",
       "      <th>Figueroa High School</th>\n",
       "      <td>76.403037</td>\n",
       "      <td>76.539974</td>\n",
       "      <td>76.884344</td>\n",
       "      <td>77.151369</td>\n",
       "    </tr>\n",
       "    <tr>\n",
       "      <th>Ford High School</th>\n",
       "      <td>77.361345</td>\n",
       "      <td>77.672316</td>\n",
       "      <td>76.918058</td>\n",
       "      <td>76.179963</td>\n",
       "    </tr>\n",
       "    <tr>\n",
       "      <th>Griffin High School</th>\n",
       "      <td>82.044010</td>\n",
       "      <td>84.229064</td>\n",
       "      <td>83.842105</td>\n",
       "      <td>83.356164</td>\n",
       "    </tr>\n",
       "    <tr>\n",
       "      <th>Hernandez High School</th>\n",
       "      <td>77.438495</td>\n",
       "      <td>77.337408</td>\n",
       "      <td>77.136029</td>\n",
       "      <td>77.186567</td>\n",
       "    </tr>\n",
       "    <tr>\n",
       "      <th>Holden High School</th>\n",
       "      <td>83.787402</td>\n",
       "      <td>83.429825</td>\n",
       "      <td>85.000000</td>\n",
       "      <td>82.855422</td>\n",
       "    </tr>\n",
       "    <tr>\n",
       "      <th>Huang High School</th>\n",
       "      <td>77.027251</td>\n",
       "      <td>75.908735</td>\n",
       "      <td>76.446602</td>\n",
       "      <td>77.225641</td>\n",
       "    </tr>\n",
       "    <tr>\n",
       "      <th>Johnson High School</th>\n",
       "      <td>77.187857</td>\n",
       "      <td>76.691117</td>\n",
       "      <td>77.491653</td>\n",
       "      <td>76.863248</td>\n",
       "    </tr>\n",
       "    <tr>\n",
       "      <th>Pena High School</th>\n",
       "      <td>83.625455</td>\n",
       "      <td>83.372000</td>\n",
       "      <td>84.328125</td>\n",
       "      <td>84.121547</td>\n",
       "    </tr>\n",
       "    <tr>\n",
       "      <th>Rodriguez High School</th>\n",
       "      <td>76.859966</td>\n",
       "      <td>76.612500</td>\n",
       "      <td>76.395626</td>\n",
       "      <td>77.690748</td>\n",
       "    </tr>\n",
       "    <tr>\n",
       "      <th>Shelton High School</th>\n",
       "      <td>83.420755</td>\n",
       "      <td>82.917411</td>\n",
       "      <td>83.383495</td>\n",
       "      <td>83.778976</td>\n",
       "    </tr>\n",
       "    <tr>\n",
       "      <th>Thomas High School</th>\n",
       "      <td>83.590022</td>\n",
       "      <td>83.087886</td>\n",
       "      <td>83.498795</td>\n",
       "      <td>83.497041</td>\n",
       "    </tr>\n",
       "    <tr>\n",
       "      <th>Wilson High School</th>\n",
       "      <td>83.085578</td>\n",
       "      <td>83.724422</td>\n",
       "      <td>83.195326</td>\n",
       "      <td>83.035794</td>\n",
       "    </tr>\n",
       "    <tr>\n",
       "      <th>Wright High School</th>\n",
       "      <td>83.264706</td>\n",
       "      <td>84.010288</td>\n",
       "      <td>83.836782</td>\n",
       "      <td>83.644986</td>\n",
       "    </tr>\n",
       "  </tbody>\n",
       "</table>\n",
       "</div>"
      ],
      "text/plain": [
       "                             9th       10th       11th       12th\n",
       "school_name                                                      \n",
       "Bailey High School     77.083676  76.996772  77.515588  76.492218\n",
       "Cabrera High School    83.094697  83.154506  82.765560  83.277487\n",
       "Figueroa High School   76.403037  76.539974  76.884344  77.151369\n",
       "Ford High School       77.361345  77.672316  76.918058  76.179963\n",
       "Griffin High School    82.044010  84.229064  83.842105  83.356164\n",
       "Hernandez High School  77.438495  77.337408  77.136029  77.186567\n",
       "Holden High School     83.787402  83.429825  85.000000  82.855422\n",
       "Huang High School      77.027251  75.908735  76.446602  77.225641\n",
       "Johnson High School    77.187857  76.691117  77.491653  76.863248\n",
       "Pena High School       83.625455  83.372000  84.328125  84.121547\n",
       "Rodriguez High School  76.859966  76.612500  76.395626  77.690748\n",
       "Shelton High School    83.420755  82.917411  83.383495  83.778976\n",
       "Thomas High School     83.590022  83.087886  83.498795  83.497041\n",
       "Wilson High School     83.085578  83.724422  83.195326  83.035794\n",
       "Wright High School     83.264706  84.010288  83.836782  83.644986"
      ]
     },
     "execution_count": 26,
     "metadata": {},
     "output_type": "execute_result"
    }
   ],
   "source": [
    "#Math Scores by Grade\n",
    "#Create a table that lists the average Math Score for students of each grade level (9th, 10th, 11th, 12th) at each school.\n",
    "#Create a pandas series for each grade. Hint: use a conditional statement.\n",
    "#Group each series by school\n",
    "#Combine the series into a dataframe\n",
    "\n",
    "ninth = student_data.loc[student_data[\"grade\"] == \"9th\"].groupby(\"school_name\")[\"math_score\"].mean()\n",
    "tenth = student_data.loc[student_data[\"grade\"] == \"10th\"].groupby(\"school_name\")[\"math_score\"].mean()\n",
    "eleventh = student_data.loc[student_data[\"grade\"] == \"11th\"].groupby(\"school_name\")[\"math_score\"].mean()\n",
    "twelfth = student_data.loc[student_data[\"grade\"] == \"12th\"].groupby(\"school_name\")[\"math_score\"].mean()\n",
    "\n",
    "#Combine the series into a dataframe\n",
    "math_score = pd.DataFrame({\"9th\": ninth,\"10th\": tenth,\"11th\": eleventh,\"12th\": twelfth})\n",
    "math_score\n"
   ]
  },
  {
   "cell_type": "code",
   "execution_count": 27,
   "metadata": {},
   "outputs": [
    {
     "data": {
      "text/html": [
       "<div>\n",
       "<style scoped>\n",
       "    .dataframe tbody tr th:only-of-type {\n",
       "        vertical-align: middle;\n",
       "    }\n",
       "\n",
       "    .dataframe tbody tr th {\n",
       "        vertical-align: top;\n",
       "    }\n",
       "\n",
       "    .dataframe thead th {\n",
       "        text-align: right;\n",
       "    }\n",
       "</style>\n",
       "<table border=\"1\" class=\"dataframe\">\n",
       "  <thead>\n",
       "    <tr style=\"text-align: right;\">\n",
       "      <th></th>\n",
       "      <th>9th</th>\n",
       "      <th>10th</th>\n",
       "      <th>11th</th>\n",
       "      <th>12th</th>\n",
       "    </tr>\n",
       "    <tr>\n",
       "      <th>school_name</th>\n",
       "      <th></th>\n",
       "      <th></th>\n",
       "      <th></th>\n",
       "      <th></th>\n",
       "    </tr>\n",
       "  </thead>\n",
       "  <tbody>\n",
       "    <tr>\n",
       "      <th>Bailey High School</th>\n",
       "      <td>81.303155</td>\n",
       "      <td>80.907183</td>\n",
       "      <td>80.945643</td>\n",
       "      <td>80.912451</td>\n",
       "    </tr>\n",
       "    <tr>\n",
       "      <th>Cabrera High School</th>\n",
       "      <td>83.676136</td>\n",
       "      <td>84.253219</td>\n",
       "      <td>83.788382</td>\n",
       "      <td>84.287958</td>\n",
       "    </tr>\n",
       "    <tr>\n",
       "      <th>Figueroa High School</th>\n",
       "      <td>81.198598</td>\n",
       "      <td>81.408912</td>\n",
       "      <td>80.640339</td>\n",
       "      <td>81.384863</td>\n",
       "    </tr>\n",
       "    <tr>\n",
       "      <th>Ford High School</th>\n",
       "      <td>80.632653</td>\n",
       "      <td>81.262712</td>\n",
       "      <td>80.403642</td>\n",
       "      <td>80.662338</td>\n",
       "    </tr>\n",
       "    <tr>\n",
       "      <th>Griffin High School</th>\n",
       "      <td>83.369193</td>\n",
       "      <td>83.706897</td>\n",
       "      <td>84.288089</td>\n",
       "      <td>84.013699</td>\n",
       "    </tr>\n",
       "    <tr>\n",
       "      <th>Hernandez High School</th>\n",
       "      <td>80.866860</td>\n",
       "      <td>80.660147</td>\n",
       "      <td>81.396140</td>\n",
       "      <td>80.857143</td>\n",
       "    </tr>\n",
       "    <tr>\n",
       "      <th>Holden High School</th>\n",
       "      <td>83.677165</td>\n",
       "      <td>83.324561</td>\n",
       "      <td>83.815534</td>\n",
       "      <td>84.698795</td>\n",
       "    </tr>\n",
       "    <tr>\n",
       "      <th>Huang High School</th>\n",
       "      <td>81.290284</td>\n",
       "      <td>81.512386</td>\n",
       "      <td>81.417476</td>\n",
       "      <td>80.305983</td>\n",
       "    </tr>\n",
       "    <tr>\n",
       "      <th>Johnson High School</th>\n",
       "      <td>81.260714</td>\n",
       "      <td>80.773431</td>\n",
       "      <td>80.616027</td>\n",
       "      <td>81.227564</td>\n",
       "    </tr>\n",
       "    <tr>\n",
       "      <th>Pena High School</th>\n",
       "      <td>83.807273</td>\n",
       "      <td>83.612000</td>\n",
       "      <td>84.335938</td>\n",
       "      <td>84.591160</td>\n",
       "    </tr>\n",
       "    <tr>\n",
       "      <th>Rodriguez High School</th>\n",
       "      <td>80.993127</td>\n",
       "      <td>80.629808</td>\n",
       "      <td>80.864811</td>\n",
       "      <td>80.376426</td>\n",
       "    </tr>\n",
       "    <tr>\n",
       "      <th>Shelton High School</th>\n",
       "      <td>84.122642</td>\n",
       "      <td>83.441964</td>\n",
       "      <td>84.373786</td>\n",
       "      <td>82.781671</td>\n",
       "    </tr>\n",
       "    <tr>\n",
       "      <th>Thomas High School</th>\n",
       "      <td>83.728850</td>\n",
       "      <td>84.254157</td>\n",
       "      <td>83.585542</td>\n",
       "      <td>83.831361</td>\n",
       "    </tr>\n",
       "    <tr>\n",
       "      <th>Wilson High School</th>\n",
       "      <td>83.939778</td>\n",
       "      <td>84.021452</td>\n",
       "      <td>83.764608</td>\n",
       "      <td>84.317673</td>\n",
       "    </tr>\n",
       "    <tr>\n",
       "      <th>Wright High School</th>\n",
       "      <td>83.833333</td>\n",
       "      <td>83.812757</td>\n",
       "      <td>84.156322</td>\n",
       "      <td>84.073171</td>\n",
       "    </tr>\n",
       "  </tbody>\n",
       "</table>\n",
       "</div>"
      ],
      "text/plain": [
       "                             9th       10th       11th       12th\n",
       "school_name                                                      \n",
       "Bailey High School     81.303155  80.907183  80.945643  80.912451\n",
       "Cabrera High School    83.676136  84.253219  83.788382  84.287958\n",
       "Figueroa High School   81.198598  81.408912  80.640339  81.384863\n",
       "Ford High School       80.632653  81.262712  80.403642  80.662338\n",
       "Griffin High School    83.369193  83.706897  84.288089  84.013699\n",
       "Hernandez High School  80.866860  80.660147  81.396140  80.857143\n",
       "Holden High School     83.677165  83.324561  83.815534  84.698795\n",
       "Huang High School      81.290284  81.512386  81.417476  80.305983\n",
       "Johnson High School    81.260714  80.773431  80.616027  81.227564\n",
       "Pena High School       83.807273  83.612000  84.335938  84.591160\n",
       "Rodriguez High School  80.993127  80.629808  80.864811  80.376426\n",
       "Shelton High School    84.122642  83.441964  84.373786  82.781671\n",
       "Thomas High School     83.728850  84.254157  83.585542  83.831361\n",
       "Wilson High School     83.939778  84.021452  83.764608  84.317673\n",
       "Wright High School     83.833333  83.812757  84.156322  84.073171"
      ]
     },
     "execution_count": 27,
     "metadata": {},
     "output_type": "execute_result"
    }
   ],
   "source": [
    "#Reading Scores by Grade\n",
    "#Create a table that lists the average Math Score for students of each grade level (9th, 10th, 11th, 12th) at each school.\n",
    "#Create a pandas series for each grade. Hint: use a conditional statement.\n",
    "#Group each series by school\n",
    "#Combine the series into a dataframe\n",
    "\n",
    "ninth = student_data.loc[student_data[\"grade\"] == \"9th\"].groupby(\"school_name\")[\"reading_score\"].mean()\n",
    "tenth = student_data.loc[student_data[\"grade\"] == \"10th\"].groupby(\"school_name\")[\"reading_score\"].mean()\n",
    "eleventh = student_data.loc[student_data[\"grade\"] == \"11th\"].groupby(\"school_name\")[\"reading_score\"].mean()\n",
    "twelfth = student_data.loc[student_data[\"grade\"] == \"12th\"].groupby(\"school_name\")[\"reading_score\"].mean()\n",
    "\n",
    "#Combine the series into a dataframe\n",
    "reading_score = pd.DataFrame({\"9th\": ninth,\"10th\": tenth,\"11th\": eleventh,\"12th\": twelfth})\n",
    "reading_score"
   ]
  },
  {
   "cell_type": "code",
   "execution_count": 28,
   "metadata": {},
   "outputs": [
    {
     "data": {
      "text/html": [
       "<style  type=\"text/css\" >\n",
       "</style>  \n",
       "<table id=\"T_ba716152_f5d6_11e8_a6cf_c4b3018a4022\" > \n",
       "<thead>    <tr> \n",
       "        <th class=\"blank level0\" ></th> \n",
       "        <th class=\"col_heading level0 col0\" >Average Math Score</th> \n",
       "        <th class=\"col_heading level0 col1\" >Average Reading Score</th> \n",
       "        <th class=\"col_heading level0 col2\" >% Passing Math</th> \n",
       "        <th class=\"col_heading level0 col3\" >% Passing Reading</th> \n",
       "        <th class=\"col_heading level0 col4\" >% Overall Passing Rate</th> \n",
       "    </tr>    <tr> \n",
       "        <th class=\"index_name level0\" >spending_bins</th> \n",
       "        <th class=\"blank\" ></th> \n",
       "        <th class=\"blank\" ></th> \n",
       "        <th class=\"blank\" ></th> \n",
       "        <th class=\"blank\" ></th> \n",
       "        <th class=\"blank\" ></th> \n",
       "    </tr></thead> \n",
       "<tbody>    <tr> \n",
       "        <th id=\"T_ba716152_f5d6_11e8_a6cf_c4b3018a4022level0_row0\" class=\"row_heading level0 row0\" ><$585</th> \n",
       "        <td id=\"T_ba716152_f5d6_11e8_a6cf_c4b3018a4022row0_col0\" class=\"data row0 col0\" >83.455399</td> \n",
       "        <td id=\"T_ba716152_f5d6_11e8_a6cf_c4b3018a4022row0_col1\" class=\"data row0 col1\" >83.933814</td> \n",
       "        <td id=\"T_ba716152_f5d6_11e8_a6cf_c4b3018a4022row0_col2\" class=\"data row0 col2\" >93.460096</td> \n",
       "        <td id=\"T_ba716152_f5d6_11e8_a6cf_c4b3018a4022row0_col3\" class=\"data row0 col3\" >96.610877</td> \n",
       "        <td id=\"T_ba716152_f5d6_11e8_a6cf_c4b3018a4022row0_col4\" class=\"data row0 col4\" >95.035486</td> \n",
       "    </tr>    <tr> \n",
       "        <th id=\"T_ba716152_f5d6_11e8_a6cf_c4b3018a4022level0_row1\" class=\"row_heading level0 row1\" >$585-615</th> \n",
       "        <td id=\"T_ba716152_f5d6_11e8_a6cf_c4b3018a4022row1_col0\" class=\"data row1 col0\" >83.599686</td> \n",
       "        <td id=\"T_ba716152_f5d6_11e8_a6cf_c4b3018a4022row1_col1\" class=\"data row1 col1\" >83.885211</td> \n",
       "        <td id=\"T_ba716152_f5d6_11e8_a6cf_c4b3018a4022row1_col2\" class=\"data row1 col2\" >94.230858</td> \n",
       "        <td id=\"T_ba716152_f5d6_11e8_a6cf_c4b3018a4022row1_col3\" class=\"data row1 col3\" >95.900287</td> \n",
       "        <td id=\"T_ba716152_f5d6_11e8_a6cf_c4b3018a4022row1_col4\" class=\"data row1 col4\" >95.065572</td> \n",
       "    </tr>    <tr> \n",
       "        <th id=\"T_ba716152_f5d6_11e8_a6cf_c4b3018a4022level0_row2\" class=\"row_heading level0 row2\" >$615-645</th> \n",
       "        <td id=\"T_ba716152_f5d6_11e8_a6cf_c4b3018a4022row2_col0\" class=\"data row2 col0\" >79.079225</td> \n",
       "        <td id=\"T_ba716152_f5d6_11e8_a6cf_c4b3018a4022row2_col1\" class=\"data row2 col1\" >81.891436</td> \n",
       "        <td id=\"T_ba716152_f5d6_11e8_a6cf_c4b3018a4022row2_col2\" class=\"data row2 col2\" >75.668212</td> \n",
       "        <td id=\"T_ba716152_f5d6_11e8_a6cf_c4b3018a4022row2_col3\" class=\"data row2 col3\" >86.106569</td> \n",
       "        <td id=\"T_ba716152_f5d6_11e8_a6cf_c4b3018a4022row2_col4\" class=\"data row2 col4\" >80.887391</td> \n",
       "    </tr>    <tr> \n",
       "        <th id=\"T_ba716152_f5d6_11e8_a6cf_c4b3018a4022level0_row3\" class=\"row_heading level0 row3\" >$645-675</th> \n",
       "        <td id=\"T_ba716152_f5d6_11e8_a6cf_c4b3018a4022row3_col0\" class=\"data row3 col0\" >76.997210</td> \n",
       "        <td id=\"T_ba716152_f5d6_11e8_a6cf_c4b3018a4022row3_col1\" class=\"data row3 col1\" >81.027843</td> \n",
       "        <td id=\"T_ba716152_f5d6_11e8_a6cf_c4b3018a4022row3_col2\" class=\"data row3 col2\" >66.164813</td> \n",
       "        <td id=\"T_ba716152_f5d6_11e8_a6cf_c4b3018a4022row3_col3\" class=\"data row3 col3\" >81.133951</td> \n",
       "        <td id=\"T_ba716152_f5d6_11e8_a6cf_c4b3018a4022row3_col4\" class=\"data row3 col4\" >73.649382</td> \n",
       "    </tr></tbody> \n",
       "</table> "
      ],
      "text/plain": [
       "<pandas.io.formats.style.Styler at 0x119c39978>"
      ]
     },
     "execution_count": 28,
     "metadata": {},
     "output_type": "execute_result"
    }
   ],
   "source": [
    "#Scores by School Spending\n",
    "\n",
    "#Create a table that breaks down school performances based on average Spending Ranges (Per Student). Use 4 reasonable bins to group school spending. Include in the table each of the following:\n",
    "#Average Math Score\n",
    "#Average Reading Score\n",
    "#% Passing Math\n",
    "#% Passing Reading\n",
    "#Overall Passing Rate (Average of the above two)\n",
    "\n",
    "# Sample bins. Feel free to create your own bins.\n",
    "spending_bins = [0, 585, 615, 645, 675]\n",
    "group_names = [\"<$585\", \"$585-615\", \"$615-645\", \"$645-675\"]\n",
    "\n",
    "summary_by_school[\"spending_bins\"] = pd.cut(summary_by_school[\"Total School Budget\"]/summary_by_school[\"Total Students\"], spending_bins, labels = group_names)\n",
    "\n",
    "#group by spending bins\n",
    "groupby_spending = summary_by_school.groupby(\"spending_bins\")\n",
    "\n",
    "#average math score\n",
    "math_average = groupby_spending[\"Average Math Score\"].mean()\n",
    "\n",
    "#average reading score\n",
    "reading_average = groupby_spending[\"Average Reading Score\"].mean()\n",
    "\n",
    "#% passing math\n",
    "percent_passing_math = groupby_spending.mean()['% Passing Math']\n",
    "\n",
    "#% passing reading\n",
    "percent_passing_read = groupby_spending.mean()['% Passing Reading'] \n",
    "\n",
    "#overall passing rate(average of above two)\n",
    "overall_passing_rate = (percent_passing_math + percent_passing_read)/2\n",
    "                        \n",
    "scores_by_school_spending = pd.DataFrame({\"Average Math Score\": math_average,\"Average Reading Score\": reading_average,\"% Passing Math\": percent_passing_math,\"% Passing Reading\": percent_passing_read,\"% Overall Passing Rate\": overall_passing_rate})\n",
    "scores_by_school_spending\n",
    "\n",
    "#Formatting: scores_by_school_spending\n",
    "scores_by_school_spending.style.format({'Average Math Score': '{:.6f}',\n",
    "                              'Average Reading Score': '{:.6f}',\n",
    "                              '% Passing Math': '{:.6f}',\n",
    "                              '% Passing Reading': '{:.6f}',\n",
    "                              '% Overall Passing Rate': '{:.6f}'})"
   ]
  },
  {
   "cell_type": "code",
   "execution_count": 29,
   "metadata": {},
   "outputs": [
    {
     "data": {
      "text/html": [
       "<style  type=\"text/css\" >\n",
       "</style>  \n",
       "<table id=\"T_bb4f8a18_f5d6_11e8_a6cf_c4b3018a4022\" > \n",
       "<thead>    <tr> \n",
       "        <th class=\"blank level0\" ></th> \n",
       "        <th class=\"col_heading level0 col0\" >Average Math Score</th> \n",
       "        <th class=\"col_heading level0 col1\" >Average Reading Score</th> \n",
       "        <th class=\"col_heading level0 col2\" >% Passing Math</th> \n",
       "        <th class=\"col_heading level0 col3\" >% Passing Reading</th> \n",
       "        <th class=\"col_heading level0 col4\" >% Overall Passing Rate</th> \n",
       "    </tr>    <tr> \n",
       "        <th class=\"index_name level0\" >size_bins</th> \n",
       "        <th class=\"blank\" ></th> \n",
       "        <th class=\"blank\" ></th> \n",
       "        <th class=\"blank\" ></th> \n",
       "        <th class=\"blank\" ></th> \n",
       "        <th class=\"blank\" ></th> \n",
       "    </tr></thead> \n",
       "<tbody>    <tr> \n",
       "        <th id=\"T_bb4f8a18_f5d6_11e8_a6cf_c4b3018a4022level0_row0\" class=\"row_heading level0 row0\" >Small (<1000)</th> \n",
       "        <td id=\"T_bb4f8a18_f5d6_11e8_a6cf_c4b3018a4022row0_col0\" class=\"data row0 col0\" >83.821598</td> \n",
       "        <td id=\"T_bb4f8a18_f5d6_11e8_a6cf_c4b3018a4022row0_col1\" class=\"data row0 col1\" >83.929843</td> \n",
       "        <td id=\"T_bb4f8a18_f5d6_11e8_a6cf_c4b3018a4022row0_col2\" class=\"data row0 col2\" >93.550225</td> \n",
       "        <td id=\"T_bb4f8a18_f5d6_11e8_a6cf_c4b3018a4022row0_col3\" class=\"data row0 col3\" >96.099437</td> \n",
       "        <td id=\"T_bb4f8a18_f5d6_11e8_a6cf_c4b3018a4022row0_col4\" class=\"data row0 col4\" >94.824831</td> \n",
       "    </tr>    <tr> \n",
       "        <th id=\"T_bb4f8a18_f5d6_11e8_a6cf_c4b3018a4022level0_row1\" class=\"row_heading level0 row1\" >Medium (1000-2000)</th> \n",
       "        <td id=\"T_bb4f8a18_f5d6_11e8_a6cf_c4b3018a4022row1_col0\" class=\"data row1 col0\" >83.374684</td> \n",
       "        <td id=\"T_bb4f8a18_f5d6_11e8_a6cf_c4b3018a4022row1_col1\" class=\"data row1 col1\" >83.864438</td> \n",
       "        <td id=\"T_bb4f8a18_f5d6_11e8_a6cf_c4b3018a4022row1_col2\" class=\"data row1 col2\" >93.599695</td> \n",
       "        <td id=\"T_bb4f8a18_f5d6_11e8_a6cf_c4b3018a4022row1_col3\" class=\"data row1 col3\" >96.790680</td> \n",
       "        <td id=\"T_bb4f8a18_f5d6_11e8_a6cf_c4b3018a4022row1_col4\" class=\"data row1 col4\" >95.195187</td> \n",
       "    </tr>    <tr> \n",
       "        <th id=\"T_bb4f8a18_f5d6_11e8_a6cf_c4b3018a4022level0_row2\" class=\"row_heading level0 row2\" >Large (2000-5000)</th> \n",
       "        <td id=\"T_bb4f8a18_f5d6_11e8_a6cf_c4b3018a4022row2_col0\" class=\"data row2 col0\" >77.746417</td> \n",
       "        <td id=\"T_bb4f8a18_f5d6_11e8_a6cf_c4b3018a4022row2_col1\" class=\"data row2 col1\" >81.344493</td> \n",
       "        <td id=\"T_bb4f8a18_f5d6_11e8_a6cf_c4b3018a4022row2_col2\" class=\"data row2 col2\" >69.963361</td> \n",
       "        <td id=\"T_bb4f8a18_f5d6_11e8_a6cf_c4b3018a4022row2_col3\" class=\"data row2 col3\" >82.766634</td> \n",
       "        <td id=\"T_bb4f8a18_f5d6_11e8_a6cf_c4b3018a4022row2_col4\" class=\"data row2 col4\" >76.364998</td> \n",
       "    </tr></tbody> \n",
       "</table> "
      ],
      "text/plain": [
       "<pandas.io.formats.style.Styler at 0x119c392e8>"
      ]
     },
     "execution_count": 29,
     "metadata": {},
     "output_type": "execute_result"
    }
   ],
   "source": [
    "#Scores by School Size\n",
    "#Perform the same operations as above, based on school size.\n",
    "\n",
    "## Sample bins. Feel free to create your own bins.\n",
    "size_bins = [0, 1000, 2000, 5000]\n",
    "group_names = [\"Small (<1000)\", \"Medium (1000-2000)\", \"Large (2000-5000)\"]\n",
    "\n",
    "summary_by_school[\"size_bins\"] = pd.cut(summary_by_school[\"Total Students\"], size_bins, labels = group_names)\n",
    "\n",
    "#group by school size\n",
    "groupby_size = summary_by_school.groupby(\"size_bins\")\n",
    "\n",
    "#average math score\n",
    "math_average = groupby_size[\"Average Math Score\"].mean()\n",
    "\n",
    "#average reading score\n",
    "reading_average = groupby_size[\"Average Reading Score\"].mean()\n",
    "\n",
    "#% passing math\n",
    "percent_passing_math = groupby_size.mean()['% Passing Math']\n",
    "\n",
    "#% passing reading\n",
    "percent_passing_reading = groupby_size.mean()['% Passing Reading']\n",
    "\n",
    "#overall passing rate(average of above two)\n",
    "overall_passing_rate = (percent_passing_math + percent_passing_reading)/2\n",
    "          \n",
    "scores_by_school_size = pd.DataFrame({\"Average Math Score\": math_average,\"Average Reading Score\": reading_average,\"% Passing Math\": percent_passing_math,\"% Passing Reading\": percent_passing_reading,\"% Overall Passing Rate\": overall_passing_rate})\n",
    "scores_by_school_size\n",
    "\n",
    "#Formatting: scores_by_school_size\n",
    "scores_by_school_size.style.format({'Average Math Score': '{:.6f}', \n",
    "                             'Average Reading Score': '{:.6f}', \n",
    "                             '% Passing Math': '{:.6f}', \n",
    "                             '% Passing Reading':'{:.6f}', \n",
    "                             '% Overall Passing Rate': '{:.6f}'})"
   ]
  },
  {
   "cell_type": "code",
   "execution_count": 30,
   "metadata": {},
   "outputs": [
    {
     "data": {
      "text/html": [
       "<style  type=\"text/css\" >\n",
       "</style>  \n",
       "<table id=\"T_bd076a56_f5d6_11e8_a6cf_c4b3018a4022\" > \n",
       "<thead>    <tr> \n",
       "        <th class=\"blank level0\" ></th> \n",
       "        <th class=\"col_heading level0 col0\" >Average Math Score</th> \n",
       "        <th class=\"col_heading level0 col1\" >Average Reading Score</th> \n",
       "        <th class=\"col_heading level0 col2\" >% Passing Math</th> \n",
       "        <th class=\"col_heading level0 col3\" >% Passing Reading</th> \n",
       "        <th class=\"col_heading level0 col4\" >% Overall Passing Rate</th> \n",
       "    </tr>    <tr> \n",
       "        <th class=\"index_name level0\" >type</th> \n",
       "        <th class=\"blank\" ></th> \n",
       "        <th class=\"blank\" ></th> \n",
       "        <th class=\"blank\" ></th> \n",
       "        <th class=\"blank\" ></th> \n",
       "        <th class=\"blank\" ></th> \n",
       "    </tr></thead> \n",
       "<tbody>    <tr> \n",
       "        <th id=\"T_bd076a56_f5d6_11e8_a6cf_c4b3018a4022level0_row0\" class=\"row_heading level0 row0\" >Charter</th> \n",
       "        <td id=\"T_bd076a56_f5d6_11e8_a6cf_c4b3018a4022row0_col0\" class=\"data row0 col0\" >83.406183</td> \n",
       "        <td id=\"T_bd076a56_f5d6_11e8_a6cf_c4b3018a4022row0_col1\" class=\"data row0 col1\" >83.902821</td> \n",
       "        <td id=\"T_bd076a56_f5d6_11e8_a6cf_c4b3018a4022row0_col2\" class=\"data row0 col2\" >93.701821</td> \n",
       "        <td id=\"T_bd076a56_f5d6_11e8_a6cf_c4b3018a4022row0_col3\" class=\"data row0 col3\" >96.645891</td> \n",
       "        <td id=\"T_bd076a56_f5d6_11e8_a6cf_c4b3018a4022row0_col4\" class=\"data row0 col4\" >95.173856</td> \n",
       "    </tr>    <tr> \n",
       "        <th id=\"T_bd076a56_f5d6_11e8_a6cf_c4b3018a4022level0_row1\" class=\"row_heading level0 row1\" >District</th> \n",
       "        <td id=\"T_bd076a56_f5d6_11e8_a6cf_c4b3018a4022row1_col0\" class=\"data row1 col0\" >76.987026</td> \n",
       "        <td id=\"T_bd076a56_f5d6_11e8_a6cf_c4b3018a4022row1_col1\" class=\"data row1 col1\" >80.962485</td> \n",
       "        <td id=\"T_bd076a56_f5d6_11e8_a6cf_c4b3018a4022row1_col2\" class=\"data row1 col2\" >66.518387</td> \n",
       "        <td id=\"T_bd076a56_f5d6_11e8_a6cf_c4b3018a4022row1_col3\" class=\"data row1 col3\" >80.905249</td> \n",
       "        <td id=\"T_bd076a56_f5d6_11e8_a6cf_c4b3018a4022row1_col4\" class=\"data row1 col4\" >73.711818</td> \n",
       "    </tr></tbody> \n",
       "</table> "
      ],
      "text/plain": [
       "<pandas.io.formats.style.Styler at 0x119c39160>"
      ]
     },
     "execution_count": 30,
     "metadata": {},
     "output_type": "execute_result"
    }
   ],
   "source": [
    "# group by type of school\n",
    "groupby_type = school_data_complete.groupby(\"type\")\n",
    "\n",
    "#average math score\n",
    "math_average = groupby_type[\"math_score\"].mean()\n",
    "\n",
    "#average reading score\n",
    "reading_average = groupby_type[\"reading_score\"].mean()\n",
    "\n",
    "#%passing math\n",
    "percent_passing_math = school_data_complete[school_data_complete[\"math_score\"] >=70].groupby(\"type\")[\"Student ID\"].count()/groupby_type[\"Student ID\"].count()\n",
    "\n",
    "#%passing reading\n",
    "percent_passing_reading = school_data_complete[school_data_complete[\"reading_score\"] >=70].groupby(\"type\")[\"Student ID\"].count()/groupby_type[\"Student ID\"].count()\n",
    "\n",
    "#overall passing rate(average of above two)\n",
    "overall_passing_rate = (percent_passing_math + percent_passing_reading)/2\n",
    "\n",
    "scores_by_school_type = pd.DataFrame({\"Average Math Score\": math_average,\"Average Reading Score\": reading_average,\"% Passing Math\": 100*percent_passing_math,\"% Passing Reading\": 100*percent_passing_reading,\"% Overall Passing Rate\": 100*overall_passing_rate})\n",
    "scores_by_school_type\n",
    "\n",
    "#Formatting scores_by_school_type\n",
    "scores_by_school_type.style.format({'Average Math Score': '{:.6f}', \n",
    "                              'Average Reading Score': '{:.6f}', \n",
    "                              '% Passing Math': '{:.6f}', \n",
    "                              '% Passing Reading':'{:.6f}', \n",
    "                              '% Overall Passing Rate': '{:.6f}'})"
   ]
  },
  {
   "cell_type": "code",
   "execution_count": null,
   "metadata": {},
   "outputs": [],
   "source": []
  },
  {
   "cell_type": "code",
   "execution_count": null,
   "metadata": {},
   "outputs": [],
   "source": []
  },
  {
   "cell_type": "code",
   "execution_count": null,
   "metadata": {},
   "outputs": [],
   "source": []
  },
  {
   "cell_type": "code",
   "execution_count": null,
   "metadata": {},
   "outputs": [],
   "source": []
  },
  {
   "cell_type": "code",
   "execution_count": null,
   "metadata": {},
   "outputs": [],
   "source": []
  },
  {
   "cell_type": "code",
   "execution_count": null,
   "metadata": {},
   "outputs": [],
   "source": []
  },
  {
   "cell_type": "code",
   "execution_count": null,
   "metadata": {},
   "outputs": [],
   "source": []
  },
  {
   "cell_type": "code",
   "execution_count": null,
   "metadata": {},
   "outputs": [],
   "source": []
  },
  {
   "cell_type": "code",
   "execution_count": null,
   "metadata": {},
   "outputs": [],
   "source": []
  },
  {
   "cell_type": "code",
   "execution_count": null,
   "metadata": {},
   "outputs": [],
   "source": []
  }
 ],
 "metadata": {
  "kernelspec": {
   "display_name": "Python 3",
   "language": "python",
   "name": "python3"
  },
  "language_info": {
   "codemirror_mode": {
    "name": "ipython",
    "version": 3
   },
   "file_extension": ".py",
   "mimetype": "text/x-python",
   "name": "python",
   "nbconvert_exporter": "python",
   "pygments_lexer": "ipython3",
   "version": "3.7.0"
  }
 },
 "nbformat": 4,
 "nbformat_minor": 2
}
